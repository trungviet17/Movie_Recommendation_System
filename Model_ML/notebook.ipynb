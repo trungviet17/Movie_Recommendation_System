{
 "cells": [
  {
   "cell_type": "code",
   "execution_count": 1,
   "metadata": {},
   "outputs": [],
   "source": [
    "import numpy as np\n",
    "import pandas as pd\n",
    "from sklearn.feature_extraction.text import TfidfVectorizer, CountVectorizer\n",
    "from sklearn.metrics.pairwise import linear_kernel, cosine_similarity\n",
    "from ast import literal_eval"
   ]
  },
  {
   "cell_type": "code",
   "execution_count": 7,
   "metadata": {},
   "outputs": [],
   "source": [
    "class MovieRecommendationModel:\n",
    "    def __init__(self, df):\n",
    "        self.df = df\n",
    "        self.overview_tfidf_matrix = None\n",
    "        self.overview_cosine_sim = None\n",
    "        self.soup_cosine_sim = None\n",
    "        self.indices = None\n",
    "        self._clean_data()\n",
    "        self._build_model()\n",
    "\n",
    "    def _clean_data(self):\n",
    "        features = ['director', 'cast', 'keywords', 'genres']\n",
    "        for feature in features:\n",
    "            if feature != 'director':\n",
    "                self.df[feature] = self.df[feature].apply(literal_eval)\n",
    "            self.df[feature] = self.df[feature].apply(self._clean_feature)\n",
    "\n",
    "    def _clean_feature(self, x):\n",
    "        if isinstance(x, list):\n",
    "            return ' '.join([str.lower(i.replace(\" \", \"\")) for i in x])\n",
    "        else:\n",
    "            return str.lower(x.replace(\" \", \"\")) if isinstance(x, str) else ''\n",
    "\n",
    "    def _build_model(self):\n",
    "        # TF-IDF Vectorizer for overview\n",
    "        tfidf = TfidfVectorizer(stop_words='english')\n",
    "        self.overview_tfidf_matrix = tfidf.fit_transform(self.df['overview'].fillna(''))\n",
    "        self.overview_cosine_sim = linear_kernel(self.overview_tfidf_matrix, self.overview_tfidf_matrix)\n",
    "\n",
    "        # Count Vectorizer for soup\n",
    "        self._process_soup()\n",
    "\n",
    "        # Construct a reverse map of indices and movie titles\n",
    "        self.indices = pd.Series(self.df.index, index=self.df['title']).drop_duplicates()\n",
    "\n",
    "    def _process_soup(self):\n",
    "        self.df['soup'] = self.df.apply(self._create_soup, axis=1)\n",
    "        count = CountVectorizer(stop_words='english')\n",
    "        count_matrix = count.fit_transform(self.df['soup'])\n",
    "        self.soup_cosine_sim = cosine_similarity(count_matrix, count_matrix)\n",
    "\n",
    "    def _create_soup(self, x):\n",
    "        return ' '.join(x['keywords']) + ' ' + ' '.join(x['cast']) + ' ' + x['director'] + ' ' + ' '.join(x['genres'])\n",
    "\n",
    "    def recommend(self, title, num_recommendations=10):\n",
    "        idx = self.indices[title]\n",
    "        sim_scores_overview = self.overview_cosine_sim[idx]\n",
    "        sim_scores_soup = self.soup_cosine_sim[idx]\n",
    "        \n",
    "        # Normalize sim_scores\n",
    "        max_overview = np.max(sim_scores_overview)\n",
    "        max_soup = np.max(sim_scores_soup)\n",
    "        sim_scores_overview /= max_overview\n",
    "        sim_scores_soup /= max_soup\n",
    "        \n",
    "        # Combine and average the normalized similarity scores\n",
    "        sim_scores = (2*sim_scores_overview + sim_scores_soup) / 3\n",
    "        \n",
    "        # Sort and select top recommendations\n",
    "        sim_scores_indices = np.argsort(-sim_scores)[1:num_recommendations+1]\n",
    "        \n",
    "        return self.df['title'].iloc[sim_scores_indices]\n"
   ]
  },
  {
   "cell_type": "code",
   "execution_count": 12,
   "metadata": {},
   "outputs": [
    {
     "name": "stdout",
     "output_type": "stream",
     "text": [
      "<class 'pandas.core.frame.DataFrame'>\n",
      "RangeIndex: 10075 entries, 0 to 10074\n",
      "Data columns (total 14 columns):\n",
      " #   Column         Non-Null Count  Dtype  \n",
      "---  ------         --------------  -----  \n",
      " 0   Unnamed: 0     10075 non-null  int64  \n",
      " 1   Released       10075 non-null  object \n",
      " 2   English title  10075 non-null  object \n",
      " 3   Genre          10075 non-null  object \n",
      " 4   Score          10075 non-null  float64\n",
      " 5   Popularity     10075 non-null  float64\n",
      " 6   Overview       9861 non-null   object \n",
      " 7   Or_lan         10075 non-null  object \n",
      " 8   Actor_1_name   9993 non-null   object \n",
      " 9   Actor_1_popu   9993 non-null   float64\n",
      " 10  Actor_2_name   9942 non-null   object \n",
      " 11  Actor_2_popu   9942 non-null   float64\n",
      " 12  Actor_3_name   9874 non-null   object \n",
      " 13  Actor_3_popu   9874 non-null   float64\n",
      "dtypes: float64(5), int64(1), object(8)\n",
      "memory usage: 1.1+ MB\n"
     ]
    }
   ],
   "source": [
    "df = pd.read_csv('final.csv')\n",
    "df.info()"
   ]
  },
  {
   "cell_type": "code",
   "execution_count": 13,
   "metadata": {},
   "outputs": [
    {
     "name": "stdout",
     "output_type": "stream",
     "text": [
      "65      The Dark Knight\n",
      "119       Batman Begins\n",
      "1196       The Prestige\n",
      "3573            Memento\n",
      "1033           Insomnia\n",
      "96            Inception\n",
      "95         Interstellar\n",
      "299      Batman Forever\n",
      "428      Batman Returns\n",
      "1359             Batman\n",
      "Name: title, dtype: object\n"
     ]
    }
   ],
   "source": [
    "if __name__ == \"__main__\":\n",
    "    df = pd.read_csv('data.csv')\n",
    "    # Initialize the model\n",
    "    model = MovieRecommendationModel(df)\n",
    "    recommend = model.recommend('The Dark Knight Rises')\n",
    "    print(recommend)"
   ]
  }
 ],
 "metadata": {
  "kernelspec": {
   "display_name": "DataLabX",
   "language": "python",
   "name": "python3"
  },
  "language_info": {
   "codemirror_mode": {
    "name": "ipython",
    "version": 3
   },
   "file_extension": ".py",
   "mimetype": "text/x-python",
   "name": "python",
   "nbconvert_exporter": "python",
   "pygments_lexer": "ipython3",
   "version": "3.11.9"
  }
 },
 "nbformat": 4,
 "nbformat_minor": 2
}
