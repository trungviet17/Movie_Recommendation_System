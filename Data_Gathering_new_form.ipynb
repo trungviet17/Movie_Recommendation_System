{
 "cells": [
  {
   "cell_type": "markdown",
   "metadata": {},
   "source": [
    "# Import thư viện "
   ]
  },
  {
   "cell_type": "code",
   "execution_count": 1,
   "metadata": {},
   "outputs": [],
   "source": [
    "import numpy as np \n",
    "import pandas as pd \n",
    "import tmdbv3api as tmdb "
   ]
  },
  {
   "cell_type": "code",
   "execution_count": 2,
   "metadata": {},
   "outputs": [],
   "source": [
    "from tmdbv3api import TMDb, Movie, Search\n",
    "from os import getenv\n",
    "tmdb = TMDb()\n",
    "\n",
    "tmdb.api_key = getenv('TMDB_API_KEY')\n",
    "search = Search()"
   ]
  },
  {
   "cell_type": "markdown",
   "metadata": {},
   "source": [
    "# New form"
   ]
  },
  {
   "cell_type": "code",
   "execution_count": 3,
   "metadata": {},
   "outputs": [],
   "source": [
    "from typing import List\n",
    "\n",
    "\"\"\"\n",
    "- Hàm lấy tên, ngày film từ wiki\n",
    "\n",
    "\"\"\"\n",
    "def get_films_on_wiki(year: int, prelink: str, title_label: str): \n",
    "    link = prelink + str(year)\n",
    "\n",
    "    data = pd.read_html(link)\n",
    "    if len(data) < 6: return None\n",
    "    sub_df = pd.concat([data[2], data[3], data[4], data[5]])\n",
    "  \n",
    "    res = sub_df[['Opening', title_label, \"Opening.1\"]].copy()\n",
    "    res.dropna(inplace=True)\n",
    "    res.rename(columns={\"Opening\":\"Month\",title_label: \"English title\", \"Opening.1\": \"Day\"}, inplace=True)\n",
    "    return res\n"
   ]
  },
  {
   "cell_type": "markdown",
   "metadata": {},
   "source": [
    "- Sử lại Opening: lower_case + remove space + chuyển sang int \n",
    "- Kết hợp Opening.1 + Opening"
   ]
  },
  {
   "cell_type": "code",
   "execution_count": 4,
   "metadata": {},
   "outputs": [],
   "source": [
    "dct = {\n",
    "    'january' : 1, \n",
    "    'february' : 2,\n",
    "    'march' : 3, \n",
    "    'april' :  4,\n",
    "    'may' : 5, \n",
    "    'june' : 6, \n",
    "    'july' : 7, \n",
    "    'august' : 8, \n",
    "    'september' : 9, \n",
    "    'october' : 10, \n",
    "    'november' : 11, \n",
    "    'december' : 12\n",
    "}\n",
    "\n",
    "def combine_day_with_month(x: tuple, year : int):\n",
    "    return  str(year) + \"-\" + str(x[0]) + \"-\" + str(x[1])\n",
    "\n",
    "def month_to_int(month : str) : \n",
    "    if month not in  dct.keys():\n",
    "        return None \n",
    "    return dct[month]\n",
    "\n",
    "def released_handling(year: int, df: pd.DataFrame):\n",
    "   \n",
    "    df['Month'] = df['Month'].str.lower()\n",
    "    df['Month'] = df['Month'].str.replace(' ', \"\")\n",
    "\n",
    "    df['Month']  = df['Month'].apply(lambda x: month_to_int(x)) #con\n",
    "    \n",
    "    df['Day'] = df['Day'].astype(int)\n",
    "    df['Released'] = df[['Month', 'Day']].apply(lambda x: combine_day_with_month(x, year), axis=1)\n",
    "    df['Released'] = pd.to_datetime(df['Released'])\n",
    "    df.drop(['Month', 'Day'], inplace = True, axis=1)\n",
    "    return df\n",
    "\n",
    "    pass"
   ]
  },
  {
   "cell_type": "code",
   "execution_count": 5,
   "metadata": {},
   "outputs": [],
   "source": [
    "def get_tmdb_id(title, release_date):\n",
    "    if release_date is None: return None\n",
    "    t  = release_date.year\n",
    "    movie = search.movies(title, release_year=t)\n",
    "\n",
    "    for j in movie['results']: \n",
    "        if j['release_date'] == release_date.strftime('%Y-%m-%d'): \n",
    "            return j['id']\n",
    "        \n",
    "    return None"
   ]
  },
  {
   "cell_type": "code",
   "execution_count": 6,
   "metadata": {},
   "outputs": [],
   "source": [
    "def gather_data(country: str, year_start: int, year_end): \n",
    "    prelink = 'https://en.wikipedia.org/wiki/List_of_' + country + \"_films_of_\"\n",
    "    data_set = pd.DataFrame(columns=['Released', 'English title', 'TMDB_id']) # create\n",
    "    for i in range(year_start, year_end + 1): \n",
    "        print(f'Year: {i}')\n",
    "        compo_df = get_films_on_wiki(i, prelink, \"Title\")\n",
    "        \n",
    "        if compo_df is None: continue\n",
    "        compo_clean = released_handling(df= compo_df, year=i)\n",
    "\n",
    "        compo_clean['TMDB_id'] = compo_clean[['English title', 'Released']].apply(lambda x: get_tmdb_id(x[0], x[1]), axis = 1)\n",
    "\n",
    "        data_set = pd.concat([data_set, compo_clean])\n",
    "        \n",
    "        \n",
    "    return data_set"
   ]
  },
  {
   "cell_type": "code",
   "execution_count": null,
   "metadata": {},
   "outputs": [],
   "source": [
    "t = gather_data(\"American\", 1970, 1979)"
   ]
  },
  {
   "cell_type": "code",
   "execution_count": 17,
   "metadata": {},
   "outputs": [],
   "source": [
    "t.dropna(inplace=True)"
   ]
  },
  {
   "cell_type": "code",
   "execution_count": 18,
   "metadata": {},
   "outputs": [],
   "source": [
    "t['TMDB_id'] = t['TMDB_id'].astype(int)"
   ]
  },
  {
   "cell_type": "code",
   "execution_count": 19,
   "metadata": {},
   "outputs": [
    {
     "data": {
      "text/html": [
       "<div>\n",
       "<style scoped>\n",
       "    .dataframe tbody tr th:only-of-type {\n",
       "        vertical-align: middle;\n",
       "    }\n",
       "\n",
       "    .dataframe tbody tr th {\n",
       "        vertical-align: top;\n",
       "    }\n",
       "\n",
       "    .dataframe thead th {\n",
       "        text-align: right;\n",
       "    }\n",
       "</style>\n",
       "<table border=\"1\" class=\"dataframe\">\n",
       "  <thead>\n",
       "    <tr style=\"text-align: right;\">\n",
       "      <th></th>\n",
       "      <th>Released</th>\n",
       "      <th>English title</th>\n",
       "      <th>TMDB_id</th>\n",
       "    </tr>\n",
       "  </thead>\n",
       "  <tbody>\n",
       "    <tr>\n",
       "      <th>1</th>\n",
       "      <td>1970-01-02</td>\n",
       "      <td>Jenny</td>\n",
       "      <td>280133</td>\n",
       "    </tr>\n",
       "    <tr>\n",
       "      <th>3</th>\n",
       "      <td>1970-01-09</td>\n",
       "      <td>...tick...tick...tick...</td>\n",
       "      <td>85255</td>\n",
       "    </tr>\n",
       "    <tr>\n",
       "      <th>4</th>\n",
       "      <td>1970-01-14</td>\n",
       "      <td>Last of the Mobile Hot Shots</td>\n",
       "      <td>117999</td>\n",
       "    </tr>\n",
       "    <tr>\n",
       "      <th>5</th>\n",
       "      <td>1970-01-14</td>\n",
       "      <td>The Dunwich Horror</td>\n",
       "      <td>65891</td>\n",
       "    </tr>\n",
       "    <tr>\n",
       "      <th>7</th>\n",
       "      <td>1970-01-21</td>\n",
       "      <td>The Only Game in Town</td>\n",
       "      <td>84481</td>\n",
       "    </tr>\n",
       "    <tr>\n",
       "      <th>...</th>\n",
       "      <td>...</td>\n",
       "      <td>...</td>\n",
       "      <td>...</td>\n",
       "    </tr>\n",
       "    <tr>\n",
       "      <th>47</th>\n",
       "      <td>1979-12-21</td>\n",
       "      <td>Cuba</td>\n",
       "      <td>62001</td>\n",
       "    </tr>\n",
       "    <tr>\n",
       "      <th>48</th>\n",
       "      <td>1979-12-21</td>\n",
       "      <td>C.H.O.M.P.S.</td>\n",
       "      <td>77593</td>\n",
       "    </tr>\n",
       "    <tr>\n",
       "      <th>49</th>\n",
       "      <td>1979-12-21</td>\n",
       "      <td>The Electric Horseman</td>\n",
       "      <td>11145</td>\n",
       "    </tr>\n",
       "    <tr>\n",
       "      <th>50</th>\n",
       "      <td>1979-12-21</td>\n",
       "      <td>Scavenger Hunt</td>\n",
       "      <td>23050</td>\n",
       "    </tr>\n",
       "    <tr>\n",
       "      <th>51</th>\n",
       "      <td>1979-12-25</td>\n",
       "      <td>Going in Style</td>\n",
       "      <td>65066</td>\n",
       "    </tr>\n",
       "  </tbody>\n",
       "</table>\n",
       "<p>904 rows × 3 columns</p>\n",
       "</div>"
      ],
      "text/plain": [
       "     Released                 English title  TMDB_id\n",
       "1  1970-01-02                         Jenny   280133\n",
       "3  1970-01-09      ...tick...tick...tick...    85255\n",
       "4  1970-01-14  Last of the Mobile Hot Shots   117999\n",
       "5  1970-01-14            The Dunwich Horror    65891\n",
       "7  1970-01-21         The Only Game in Town    84481\n",
       "..        ...                           ...      ...\n",
       "47 1979-12-21                          Cuba    62001\n",
       "48 1979-12-21                  C.H.O.M.P.S.    77593\n",
       "49 1979-12-21         The Electric Horseman    11145\n",
       "50 1979-12-21                Scavenger Hunt    23050\n",
       "51 1979-12-25                Going in Style    65066\n",
       "\n",
       "[904 rows x 3 columns]"
      ]
     },
     "execution_count": 19,
     "metadata": {},
     "output_type": "execute_result"
    }
   ],
   "source": [
    "t"
   ]
  },
  {
   "cell_type": "code",
   "execution_count": 21,
   "metadata": {},
   "outputs": [],
   "source": [
    "t.reset_index(inplace=True)"
   ]
  },
  {
   "cell_type": "code",
   "execution_count": 22,
   "metadata": {},
   "outputs": [],
   "source": [
    "t.to_csv('raw_usa_1970_1979.csv')"
   ]
  },
  {
   "cell_type": "code",
   "execution_count": null,
   "metadata": {},
   "outputs": [],
   "source": [
    "for i in range(1980, 2021, 10): \n",
    "    t = gather_data(\"American\",i, i + 9)\n",
    "    t.dropna(inplace=True)\n",
    "    t['TMDB_id'] = t['TMDB_id'].astype(int)\n",
    "    t.reset_index(inplace=True)\n",
    "    path = 'raw_usa_' + str(i) + 's.csv'\n",
    "    t.to_csv(path)"
   ]
  }
 ],
 "metadata": {
  "kernelspec": {
   "display_name": "Python 3",
   "language": "python",
   "name": "python3"
  },
  "language_info": {
   "codemirror_mode": {
    "name": "ipython",
    "version": 3
   },
   "file_extension": ".py",
   "mimetype": "text/x-python",
   "name": "python",
   "nbconvert_exporter": "python",
   "pygments_lexer": "ipython3",
   "version": "3.11.4"
  }
 },
 "nbformat": 4,
 "nbformat_minor": 2
}
