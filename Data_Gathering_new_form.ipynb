{
 "cells": [
  {
   "cell_type": "markdown",
   "metadata": {},
   "source": [
    "# Import thư viện "
   ]
  },
  {
   "cell_type": "code",
   "execution_count": 57,
   "metadata": {},
   "outputs": [],
   "source": [
    "import numpy as np \n",
    "import pandas as pd \n",
    "import tmdbv3api as tmdb "
   ]
  },
  {
   "cell_type": "code",
   "execution_count": 58,
   "metadata": {},
   "outputs": [],
   "source": [
    "from tmdbv3api import TMDb, Movie, Search\n",
    "from os import getenv\n",
    "tmdb = TMDb()\n",
    "\n",
    "tmdb.api_key = getenv('TMDB_API_KEY')\n",
    "search = Search()"
   ]
  },
  {
   "cell_type": "markdown",
   "metadata": {},
   "source": [
    "# New form"
   ]
  },
  {
   "cell_type": "code",
   "execution_count": 59,
   "metadata": {},
   "outputs": [],
   "source": [
    "from typing import List\n",
    "\n",
    "\"\"\"\n",
    "- Hàm lấy tên, ngày film từ wiki\n",
    "\n",
    "\"\"\"\n",
    "def get_films_on_wiki(year: int, prelink: str, title_label: str): \n",
    "    link = prelink + str(year)\n",
    "\n",
    "    data = pd.read_html(link)\n",
    "    if len(data) < 6: return None\n",
    "    sub_df = pd.concat([data[2], data[3], data[4], data[5]])\n",
    "  \n",
    "    res = sub_df[['Opening', title_label, \"Opening.1\"]].copy()\n",
    "    res.dropna(inplace=True)\n",
    "    res.rename(columns={\"Opening\":\"Month\",title_label: \"English title\", \"Opening.1\": \"Day\"}, inplace=True)\n",
    "    \n",
    "    \n",
    "    return res\n"
   ]
  },
  {
   "cell_type": "markdown",
   "metadata": {},
   "source": [
    "- Sử lại Opening: lower_case + remove space + chuyển sang int \n",
    "- Kết hợp Opening.1 + Opening"
   ]
  },
  {
   "cell_type": "code",
   "execution_count": 60,
   "metadata": {},
   "outputs": [],
   "source": [
    "dct = {\n",
    "    'january' : 1, \n",
    "    'february' : 2,\n",
    "    'march' : 3, \n",
    "    'april' :  4,\n",
    "    'may' : 5, \n",
    "    'june' : 6, \n",
    "    'july' : 7, \n",
    "    'august' : 8, \n",
    "    'september' : 9, \n",
    "    'october' : 10, \n",
    "    'november' : 11, \n",
    "    'december' : 12\n",
    "}\n",
    "\n",
    "def combine_day_with_month(x: tuple, year : int):\n",
    "    return  str(year) + \"-\" + str(x[0]) + \"-\" + str(x[1])\n",
    "\n",
    "def month_to_int(month : str) : \n",
    "    if month not in  dct.keys():\n",
    "        return None \n",
    "    return dct[month]\n",
    "\n",
    "def released_handling(year: int, df: pd.DataFrame):\n",
    "   \n",
    "    df['Month'] = df['Month'].str.lower()\n",
    "    df['Month'] = df['Month'].str.replace(' ', \"\")\n",
    "\n",
    "    df['Month']  = df['Month'].apply(lambda x: month_to_int(x)) #con\n",
    "    # df['Day'] = df['Day'].astype(str)\n",
    "    # df = df[df['Day'].str.isnumeric()]\n",
    "    df['Day'] = df['Day'].astype(int)\n",
    "    df['Released'] = df[['Month', 'Day']].apply(lambda x: combine_day_with_month(x, year), axis=1)\n",
    "    df['Released'] = pd.to_datetime(df['Released'])\n",
    "    df.drop(['Month', 'Day'], inplace = True, axis=1)\n",
    "    return df\n",
    "\n",
    "    pass"
   ]
  },
  {
   "cell_type": "code",
   "execution_count": 61,
   "metadata": {},
   "outputs": [],
   "source": [
    "def get_tmdb_id(title, release_date):\n",
    "    if release_date is None: return None\n",
    "    t  = release_date.year\n",
    "    movie = search.movies(title, release_year=t)\n",
    "    \n",
    "\n",
    "    for j in movie['results']:\n",
    "        if j['release_date'] == release_date.strftime('%Y-%m-%d'): \n",
    "            return j['id']\n",
    "        \n",
    "    return None"
   ]
  },
  {
   "cell_type": "code",
   "execution_count": 62,
   "metadata": {},
   "outputs": [],
   "source": [
    "def gather_data(country: str, year_start: int, year_end): \n",
    "    prelink = 'https://en.wikipedia.org/wiki/List_of_' + country + \"_films_of_\"\n",
    "    data_set = pd.DataFrame(columns=['Released', 'English title', 'TMDB_id']) # create\n",
    "    for i in range(year_start, year_end + 1): \n",
    "        print(f'Year: {i}')\n",
    "        compo_df = get_films_on_wiki(i, prelink, \"Title\")\n",
    "        \n",
    "        if compo_df is None: continue\n",
    "        compo_clean = released_handling(df= compo_df, year=i)\n",
    "        \n",
    "        compo_clean['TMDB_id'] = compo_clean[['English title', 'Released']].apply(lambda x: get_tmdb_id(x[0], x[1]), axis = 1)\n",
    "\n",
    "        data_set = pd.concat([data_set, compo_clean])\n",
    "        \n",
    "        \n",
    "    return data_set"
   ]
  },
  {
   "cell_type": "code",
   "execution_count": 66,
   "metadata": {},
   "outputs": [
    {
     "name": "stdout",
     "output_type": "stream",
     "text": [
      "Year: 2023\n"
     ]
    },
    {
     "name": "stderr",
     "output_type": "stream",
     "text": [
      "C:\\Users\\Asus\\AppData\\Local\\Temp\\ipykernel_13652\\1445721280.py:17: FutureWarning: Series.__getitem__ treating keys as positions is deprecated. In a future version, integer keys will always be treated as labels (consistent with DataFrame behavior). To access a value by position, use `ser.iloc[pos]`\n",
      "  return  str(year) + \"-\" + str(x[0]) + \"-\" + str(x[1])\n",
      "C:\\Users\\Asus\\AppData\\Local\\Temp\\ipykernel_13652\\624537061.py:11: FutureWarning: Series.__getitem__ treating keys as positions is deprecated. In a future version, integer keys will always be treated as labels (consistent with DataFrame behavior). To access a value by position, use `ser.iloc[pos]`\n",
      "  compo_clean['TMDB_id'] = compo_clean[['English title', 'Released']].apply(lambda x: get_tmdb_id(x[0], x[1]), axis = 1)\n",
      "C:\\Users\\Asus\\AppData\\Local\\Temp\\ipykernel_13652\\624537061.py:13: FutureWarning: The behavior of DataFrame concatenation with empty or all-NA entries is deprecated. In a future version, this will no longer exclude empty or all-NA columns when determining the result dtypes. To retain the old behavior, exclude the relevant entries before the concat operation.\n",
      "  data_set = pd.concat([data_set, compo_clean])\n"
     ]
    }
   ],
   "source": [
    "\n",
    "t = gather_data(\"Japanese\",2023, 2023)\n",
    "t.dropna(inplace=True)\n",
    "t['TMDB_id'] = t['TMDB_id'].astype(int)\n",
    "t.reset_index(inplace=True)\n",
    "path = 'Data/raw_jap_23.csv'\n",
    "t.to_csv(path)"
   ]
  },
  {
   "cell_type": "code",
   "execution_count": null,
   "metadata": {},
   "outputs": [],
   "source": []
  },
  {
   "cell_type": "code",
   "execution_count": 64,
   "metadata": {},
   "outputs": [
    {
     "data": {
      "text/html": [
       "<div>\n",
       "<style scoped>\n",
       "    .dataframe tbody tr th:only-of-type {\n",
       "        vertical-align: middle;\n",
       "    }\n",
       "\n",
       "    .dataframe tbody tr th {\n",
       "        vertical-align: top;\n",
       "    }\n",
       "\n",
       "    .dataframe thead th {\n",
       "        text-align: right;\n",
       "    }\n",
       "</style>\n",
       "<table border=\"1\" class=\"dataframe\">\n",
       "  <thead>\n",
       "    <tr style=\"text-align: right;\">\n",
       "      <th></th>\n",
       "      <th>index</th>\n",
       "      <th>Released</th>\n",
       "      <th>English title</th>\n",
       "      <th>TMDB_id</th>\n",
       "    </tr>\n",
       "  </thead>\n",
       "  <tbody>\n",
       "    <tr>\n",
       "      <th>0</th>\n",
       "      <td>0</td>\n",
       "      <td>2021-01-01</td>\n",
       "      <td>Seitokai Yakuindomo 2</td>\n",
       "      <td>653858</td>\n",
       "    </tr>\n",
       "    <tr>\n",
       "      <th>1</th>\n",
       "      <td>2</td>\n",
       "      <td>2021-01-08</td>\n",
       "      <td>Gintama: The Final</td>\n",
       "      <td>732203</td>\n",
       "    </tr>\n",
       "    <tr>\n",
       "      <th>2</th>\n",
       "      <td>3</td>\n",
       "      <td>2021-01-08</td>\n",
       "      <td>Angry Rice Wives</td>\n",
       "      <td>756197</td>\n",
       "    </tr>\n",
       "    <tr>\n",
       "      <th>3</th>\n",
       "      <td>8</td>\n",
       "      <td>2021-01-22</td>\n",
       "      <td>The Night Beyond the Tricornered Window</td>\n",
       "      <td>695244</td>\n",
       "    </tr>\n",
       "    <tr>\n",
       "      <th>4</th>\n",
       "      <td>9</td>\n",
       "      <td>2021-01-29</td>\n",
       "      <td>The Master Plan</td>\n",
       "      <td>722805</td>\n",
       "    </tr>\n",
       "    <tr>\n",
       "      <th>...</th>\n",
       "      <td>...</td>\n",
       "      <td>...</td>\n",
       "      <td>...</td>\n",
       "      <td>...</td>\n",
       "    </tr>\n",
       "    <tr>\n",
       "      <th>102</th>\n",
       "      <td>32</td>\n",
       "      <td>2021-12-10</td>\n",
       "      <td>Your Turn to Kill: The Movie</td>\n",
       "      <td>915295</td>\n",
       "    </tr>\n",
       "    <tr>\n",
       "      <th>103</th>\n",
       "      <td>35</td>\n",
       "      <td>2021-12-17</td>\n",
       "      <td>Kamen Rider: Beyond Generations</td>\n",
       "      <td>887344</td>\n",
       "    </tr>\n",
       "    <tr>\n",
       "      <th>104</th>\n",
       "      <td>36</td>\n",
       "      <td>2021-12-17</td>\n",
       "      <td>Struggling Man</td>\n",
       "      <td>890326</td>\n",
       "    </tr>\n",
       "    <tr>\n",
       "      <th>105</th>\n",
       "      <td>37</td>\n",
       "      <td>2021-12-24</td>\n",
       "      <td>Jujutsu Kaisen 0</td>\n",
       "      <td>810693</td>\n",
       "    </tr>\n",
       "    <tr>\n",
       "      <th>106</th>\n",
       "      <td>39</td>\n",
       "      <td>2021-12-31</td>\n",
       "      <td>The End of the Pale Hour</td>\n",
       "      <td>921757</td>\n",
       "    </tr>\n",
       "  </tbody>\n",
       "</table>\n",
       "<p>107 rows × 4 columns</p>\n",
       "</div>"
      ],
      "text/plain": [
       "     index   Released                            English title  TMDB_id\n",
       "0        0 2021-01-01                    Seitokai Yakuindomo 2   653858\n",
       "1        2 2021-01-08                       Gintama: The Final   732203\n",
       "2        3 2021-01-08                         Angry Rice Wives   756197\n",
       "3        8 2021-01-22  The Night Beyond the Tricornered Window   695244\n",
       "4        9 2021-01-29                          The Master Plan   722805\n",
       "..     ...        ...                                      ...      ...\n",
       "102     32 2021-12-10             Your Turn to Kill: The Movie   915295\n",
       "103     35 2021-12-17          Kamen Rider: Beyond Generations   887344\n",
       "104     36 2021-12-17                           Struggling Man   890326\n",
       "105     37 2021-12-24                         Jujutsu Kaisen 0   810693\n",
       "106     39 2021-12-31                 The End of the Pale Hour   921757\n",
       "\n",
       "[107 rows x 4 columns]"
      ]
     },
     "execution_count": 64,
     "metadata": {},
     "output_type": "execute_result"
    }
   ],
   "source": [
    "t"
   ]
  }
 ],
 "metadata": {
  "kernelspec": {
   "display_name": "Python 3",
   "language": "python",
   "name": "python3"
  },
  "language_info": {
   "codemirror_mode": {
    "name": "ipython",
    "version": 3
   },
   "file_extension": ".py",
   "mimetype": "text/x-python",
   "name": "python",
   "nbconvert_exporter": "python",
   "pygments_lexer": "ipython3",
   "version": "3.11.4"
  }
 },
 "nbformat": 4,
 "nbformat_minor": 2
}
