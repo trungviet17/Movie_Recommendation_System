{
 "cells": [
  {
   "cell_type": "code",
   "execution_count": 1,
   "metadata": {},
   "outputs": [],
   "source": [
    "import pandas as pd \n",
    "import numpy as np \n",
    "from os import getenv\n",
    "import tmdbv3api as tmdb \n",
    "from tmdbv3api import TMDb, Movie, Search"
   ]
  },
  {
   "cell_type": "code",
   "execution_count": 2,
   "metadata": {},
   "outputs": [],
   "source": [
    "tmdb = TMDb()\n",
    "tmdb.api_key = getenv('TMDB_API_KEY')\n",
    "search = Search()\n"
   ]
  },
  {
   "cell_type": "code",
   "execution_count": 29,
   "metadata": {},
   "outputs": [],
   "source": [
    "def crawl_html_from_wiki(country: str, year: int, title: str): \n",
    "    link = 'https://en.wikipedia.org/wiki/List_of_'+ country + '_films_of_' + str(year)\n",
    "\n",
    "\n",
    "    data = pd.read_html(link)\n",
    "\n",
    "    list_name_film = pd.Series()\n",
    "\n",
    "    for i in data: \n",
    "        \n",
    "        if title in i.columns : \n",
    "            list_name_film = pd.concat([list_name_film, i[title]])\n",
    "    \n",
    "    return list_name_film.dropna()"
   ]
  },
  {
   "cell_type": "code",
   "execution_count": 30,
   "metadata": {},
   "outputs": [],
   "source": [
    "def search_in_tmdb(series: pd.Series, year: int) : \n",
    "    \n",
    "    data = {'Title'  : [], 'TMDB_id' : []}\n",
    "    \n",
    "    for i in list(series) : \n",
    "        movie = search.movies(i, year = year)\n",
    "\n",
    "        for j in movie['results'] : \n",
    "            data['Title'].append(j['title'])\n",
    "            data['TMDB_id'].append(j['id'])\n",
    "            \n",
    "\n",
    "    return pd.DataFrame(data = data)"
   ]
  },
  {
   "cell_type": "code",
   "execution_count": 31,
   "metadata": {},
   "outputs": [],
   "source": [
    "def gather_data(country:  str, begin: int, end: int, title) : \n",
    "\n",
    "    \n",
    "\n",
    "    for i in range(begin, end): \n",
    "        tmp = crawl_html_from_wiki(country, i, title)\n",
    "        data = search_in_tmdb(tmp, i)\n",
    "\n",
    "        data.to_csv('..\\Raw_data\\\\'+  country + str(i) + '.csv')\n",
    "\n",
    "    \n"
   ]
  },
  {
   "cell_type": "code",
   "execution_count": 35,
   "metadata": {},
   "outputs": [],
   "source": [
    "gather_data('Japanese', 2023, 2024, 'Title')"
   ]
  }
 ],
 "metadata": {
  "kernelspec": {
   "display_name": "movie_env",
   "language": "python",
   "name": "python3"
  },
  "language_info": {
   "codemirror_mode": {
    "name": "ipython",
    "version": 3
   },
   "file_extension": ".py",
   "mimetype": "text/x-python",
   "name": "python",
   "nbconvert_exporter": "python",
   "pygments_lexer": "ipython3",
   "version": "3.11.9"
  }
 },
 "nbformat": 4,
 "nbformat_minor": 2
}
