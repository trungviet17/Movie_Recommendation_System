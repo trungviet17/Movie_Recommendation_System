{
 "cells": [
  {
   "cell_type": "markdown",
   "metadata": {},
   "source": [
    "# Import thư viện "
   ]
  },
  {
   "cell_type": "code",
   "execution_count": 1,
   "metadata": {},
   "outputs": [],
   "source": [
    "import numpy as np \n",
    "import pandas as pd \n",
    "import tmdbv3api as tmdb "
   ]
  },
  {
   "cell_type": "code",
   "execution_count": 2,
   "metadata": {},
   "outputs": [],
   "source": [
    "from tmdbv3api import TMDb, Movie, Search\n",
    "from os import getenv\n",
    "tmdb = TMDb()\n",
    "\n",
    "tmdb.api_key = getenv('TMDB_API_KEY')\n",
    "search = Search()"
   ]
  },
  {
   "cell_type": "markdown",
   "metadata": {},
   "source": [
    "# New form"
   ]
  },
  {
   "cell_type": "code",
   "execution_count": 41,
   "metadata": {},
   "outputs": [],
   "source": [
    "from typing import List\n",
    "\n",
    "\"\"\"\n",
    "- Hàm lấy tên, ngày film từ wiki\n",
    "\n",
    "\"\"\"\n",
    "def get_films_on_wiki(year: int, prelink: str, title_label: str): \n",
    "    link = prelink + str(year)\n",
    "\n",
    "    data = pd.read_html(link)\n",
    "    if len(data) < 6: return None\n",
    "    sub_df = pd.concat([data[1], data[2], data[3], data[4]])\n",
    "  \n",
    "    res = sub_df[['Opening', title_label, \"Opening.1\"]].copy()\n",
    "    res.dropna(inplace=True)\n",
    "    res.rename(columns={\"Opening\":\"Month\",title_label: \"English title\", \"Opening.1\": \"Day\"}, inplace=True)\n",
    "    \n",
    "    \n",
    "    return res\n"
   ]
  },
  {
   "cell_type": "markdown",
   "metadata": {},
   "source": [
    "- Sử lại Opening: lower_case + remove space + chuyển sang int \n",
    "- Kết hợp Opening.1 + Opening"
   ]
  },
  {
   "cell_type": "code",
   "execution_count": 4,
   "metadata": {},
   "outputs": [],
   "source": [
    "dct = {\n",
    "    'january' : 1, \n",
    "    'february' : 2,\n",
    "    'march' : 3, \n",
    "    'april' :  4,\n",
    "    'may' : 5, \n",
    "    'june' : 6, \n",
    "    'july' : 7, \n",
    "    'august' : 8, \n",
    "    'september' : 9, \n",
    "    'october' : 10, \n",
    "    'november' : 11, \n",
    "    'december' : 12\n",
    "}\n",
    "\n",
    "def combine_day_with_month(x: tuple, year : int):\n",
    "    return  str(year) + \"-\" + str(x[0]) + \"-\" + str(x[1])\n",
    "\n",
    "def month_to_int(month : str) : \n",
    "    if month not in  dct.keys():\n",
    "        return None \n",
    "    return dct[month]\n",
    "\n",
    "def released_handling(year: int, df: pd.DataFrame):\n",
    "   \n",
    "    df['Month'] = df['Month'].str.lower()\n",
    "    df['Month'] = df['Month'].str.replace(' ', \"\")\n",
    "\n",
    "    df['Month']  = df['Month'].apply(lambda x: month_to_int(x)) #con\n",
    "    # df['Day'] = df['Day'].astype(str)\n",
    "    # df = df[df['Day'].str.isnumeric()]\n",
    "    df['Day'] = df['Day'].astype(int)\n",
    "    df['Released'] = df[['Month', 'Day']].apply(lambda x: combine_day_with_month(x, year), axis=1)\n",
    "    df['Released'] = pd.to_datetime(df['Released'])\n",
    "    df.drop(['Month', 'Day'], inplace = True, axis=1)\n",
    "    return df\n",
    "\n",
    "    pass"
   ]
  },
  {
   "cell_type": "code",
   "execution_count": 5,
   "metadata": {},
   "outputs": [],
   "source": [
    "def get_tmdb_id(title, release_date):\n",
    "    if release_date is None: return None\n",
    "    t  = release_date.year\n",
    "    movie = search.movies(title, release_year=t)\n",
    "    \n",
    "\n",
    "    for j in movie['results']:\n",
    "        if j['release_date'] == release_date.strftime('%Y-%m-%d'): \n",
    "            return j['id']\n",
    "        \n",
    "    return None"
   ]
  },
  {
   "cell_type": "code",
   "execution_count": 18,
   "metadata": {},
   "outputs": [],
   "source": [
    "def gather_data(country: str, year_start: int, year_end): \n",
    "    prelink = 'https://en.wikipedia.org/wiki/List_of_' + country + \"_films_of_\"\n",
    "    data_set = pd.DataFrame(columns=['Released', 'English title', 'TMDB_id']) # create\n",
    "    for i in range(year_start, year_end + 1): \n",
    "        print(f'Year: {i}')\n",
    "        compo_df = get_films_on_wiki(i, prelink, \"Title\")\n",
    "        \n",
    "        if compo_df is None: continue\n",
    "        compo_clean = released_handling(df= compo_df, year=i)\n",
    "        \n",
    "        compo_clean['TMDB_id'] = compo_clean[['English title', 'Released']].apply(lambda x: get_tmdb_id(x[0], x[1]), axis = 1)\n",
    "\n",
    "        data_set = pd.concat([data_set, compo_clean])\n",
    "        \n",
    "        \n",
    "    return data_set"
   ]
  },
  {
   "cell_type": "code",
   "execution_count": 50,
   "metadata": {},
   "outputs": [
    {
     "name": "stdout",
     "output_type": "stream",
     "text": [
      "Year: 2020\n"
     ]
    },
    {
     "name": "stderr",
     "output_type": "stream",
     "text": [
      "C:\\Users\\Asus\\AppData\\Local\\Temp\\ipykernel_16164\\1445721280.py:17: FutureWarning: Series.__getitem__ treating keys as positions is deprecated. In a future version, integer keys will always be treated as labels (consistent with DataFrame behavior). To access a value by position, use `ser.iloc[pos]`\n",
      "  return  str(year) + \"-\" + str(x[0]) + \"-\" + str(x[1])\n",
      "C:\\Users\\Asus\\AppData\\Local\\Temp\\ipykernel_16164\\624537061.py:11: FutureWarning: Series.__getitem__ treating keys as positions is deprecated. In a future version, integer keys will always be treated as labels (consistent with DataFrame behavior). To access a value by position, use `ser.iloc[pos]`\n",
      "  compo_clean['TMDB_id'] = compo_clean[['English title', 'Released']].apply(lambda x: get_tmdb_id(x[0], x[1]), axis = 1)\n",
      "C:\\Users\\Asus\\AppData\\Local\\Temp\\ipykernel_16164\\624537061.py:13: FutureWarning: The behavior of DataFrame concatenation with empty or all-NA entries is deprecated. In a future version, this will no longer exclude empty or all-NA columns when determining the result dtypes. To retain the old behavior, exclude the relevant entries before the concat operation.\n",
      "  data_set = pd.concat([data_set, compo_clean])\n"
     ]
    },
    {
     "name": "stdout",
     "output_type": "stream",
     "text": [
      "Year: 2021\n"
     ]
    },
    {
     "name": "stderr",
     "output_type": "stream",
     "text": [
      "C:\\Users\\Asus\\AppData\\Local\\Temp\\ipykernel_16164\\1445721280.py:17: FutureWarning: Series.__getitem__ treating keys as positions is deprecated. In a future version, integer keys will always be treated as labels (consistent with DataFrame behavior). To access a value by position, use `ser.iloc[pos]`\n",
      "  return  str(year) + \"-\" + str(x[0]) + \"-\" + str(x[1])\n",
      "C:\\Users\\Asus\\AppData\\Local\\Temp\\ipykernel_16164\\624537061.py:11: FutureWarning: Series.__getitem__ treating keys as positions is deprecated. In a future version, integer keys will always be treated as labels (consistent with DataFrame behavior). To access a value by position, use `ser.iloc[pos]`\n",
      "  compo_clean['TMDB_id'] = compo_clean[['English title', 'Released']].apply(lambda x: get_tmdb_id(x[0], x[1]), axis = 1)\n"
     ]
    },
    {
     "name": "stdout",
     "output_type": "stream",
     "text": [
      "Year: 2022\n"
     ]
    },
    {
     "name": "stderr",
     "output_type": "stream",
     "text": [
      "C:\\Users\\Asus\\AppData\\Local\\Temp\\ipykernel_16164\\1445721280.py:17: FutureWarning: Series.__getitem__ treating keys as positions is deprecated. In a future version, integer keys will always be treated as labels (consistent with DataFrame behavior). To access a value by position, use `ser.iloc[pos]`\n",
      "  return  str(year) + \"-\" + str(x[0]) + \"-\" + str(x[1])\n",
      "C:\\Users\\Asus\\AppData\\Local\\Temp\\ipykernel_16164\\624537061.py:11: FutureWarning: Series.__getitem__ treating keys as positions is deprecated. In a future version, integer keys will always be treated as labels (consistent with DataFrame behavior). To access a value by position, use `ser.iloc[pos]`\n",
      "  compo_clean['TMDB_id'] = compo_clean[['English title', 'Released']].apply(lambda x: get_tmdb_id(x[0], x[1]), axis = 1)\n"
     ]
    },
    {
     "name": "stdout",
     "output_type": "stream",
     "text": [
      "Year: 2023\n"
     ]
    },
    {
     "name": "stderr",
     "output_type": "stream",
     "text": [
      "C:\\Users\\Asus\\AppData\\Local\\Temp\\ipykernel_16164\\1445721280.py:17: FutureWarning: Series.__getitem__ treating keys as positions is deprecated. In a future version, integer keys will always be treated as labels (consistent with DataFrame behavior). To access a value by position, use `ser.iloc[pos]`\n",
      "  return  str(year) + \"-\" + str(x[0]) + \"-\" + str(x[1])\n",
      "C:\\Users\\Asus\\AppData\\Local\\Temp\\ipykernel_16164\\624537061.py:11: FutureWarning: Series.__getitem__ treating keys as positions is deprecated. In a future version, integer keys will always be treated as labels (consistent with DataFrame behavior). To access a value by position, use `ser.iloc[pos]`\n",
      "  compo_clean['TMDB_id'] = compo_clean[['English title', 'Released']].apply(lambda x: get_tmdb_id(x[0], x[1]), axis = 1)\n"
     ]
    }
   ],
   "source": [
    "\n",
    "t = gather_data(\"American\",2020, 2023)\n",
    "t.dropna(inplace=True)\n",
    "t['TMDB_id'] = t['TMDB_id'].astype(int)\n",
    "t.reset_index(inplace=True)\n",
    "path = 'Data/raw_usa_2020s.csv'\n",
    "t.to_csv(path)"
   ]
  },
  {
   "cell_type": "code",
   "execution_count": 43,
   "metadata": {},
   "outputs": [
    {
     "data": {
      "text/html": [
       "<div>\n",
       "<style scoped>\n",
       "    .dataframe tbody tr th:only-of-type {\n",
       "        vertical-align: middle;\n",
       "    }\n",
       "\n",
       "    .dataframe tbody tr th {\n",
       "        vertical-align: top;\n",
       "    }\n",
       "\n",
       "    .dataframe thead th {\n",
       "        text-align: right;\n",
       "    }\n",
       "</style>\n",
       "<table border=\"1\" class=\"dataframe\">\n",
       "  <thead>\n",
       "    <tr style=\"text-align: right;\">\n",
       "      <th></th>\n",
       "      <th>index</th>\n",
       "      <th>Released</th>\n",
       "      <th>English title</th>\n",
       "      <th>TMDB_id</th>\n",
       "    </tr>\n",
       "  </thead>\n",
       "  <tbody>\n",
       "    <tr>\n",
       "      <th>0</th>\n",
       "      <td>0</td>\n",
       "      <td>2019-01-16</td>\n",
       "      <td>The Kid Who Would Be King</td>\n",
       "      <td>454294</td>\n",
       "    </tr>\n",
       "    <tr>\n",
       "      <th>1</th>\n",
       "      <td>1</td>\n",
       "      <td>2019-01-18</td>\n",
       "      <td>Close</td>\n",
       "      <td>460321</td>\n",
       "    </tr>\n",
       "    <tr>\n",
       "      <th>2</th>\n",
       "      <td>8</td>\n",
       "      <td>2019-01-26</td>\n",
       "      <td>The Wolf Hour</td>\n",
       "      <td>483353</td>\n",
       "    </tr>\n",
       "    <tr>\n",
       "      <th>3</th>\n",
       "      <td>9</td>\n",
       "      <td>2019-01-26</td>\n",
       "      <td>Wounds</td>\n",
       "      <td>505423</td>\n",
       "    </tr>\n",
       "    <tr>\n",
       "      <th>4</th>\n",
       "      <td>21</td>\n",
       "      <td>2019-02-27</td>\n",
       "      <td>Lancaster Skies</td>\n",
       "      <td>517517</td>\n",
       "    </tr>\n",
       "    <tr>\n",
       "      <th>5</th>\n",
       "      <td>27</td>\n",
       "      <td>2019-03-15</td>\n",
       "      <td>Fisherman's Friends</td>\n",
       "      <td>559713</td>\n",
       "    </tr>\n",
       "    <tr>\n",
       "      <th>6</th>\n",
       "      <td>1</td>\n",
       "      <td>2019-04-19</td>\n",
       "      <td>Once Upon a Time in London</td>\n",
       "      <td>468339</td>\n",
       "    </tr>\n",
       "    <tr>\n",
       "      <th>7</th>\n",
       "      <td>3</td>\n",
       "      <td>2019-04-28</td>\n",
       "      <td>Nomad: In the Footsteps of Bruce Chatwin</td>\n",
       "      <td>592710</td>\n",
       "    </tr>\n",
       "    <tr>\n",
       "      <th>8</th>\n",
       "      <td>6</td>\n",
       "      <td>2019-05-10</td>\n",
       "      <td>The Corrupted</td>\n",
       "      <td>512239</td>\n",
       "    </tr>\n",
       "    <tr>\n",
       "      <th>9</th>\n",
       "      <td>14</td>\n",
       "      <td>2019-05-24</td>\n",
       "      <td>Avengement</td>\n",
       "      <td>534490</td>\n",
       "    </tr>\n",
       "    <tr>\n",
       "      <th>10</th>\n",
       "      <td>2</td>\n",
       "      <td>2019-07-26</td>\n",
       "      <td>Horrible Histories: The Movie – Rotten Romans</td>\n",
       "      <td>553002</td>\n",
       "    </tr>\n",
       "    <tr>\n",
       "      <th>11</th>\n",
       "      <td>6</td>\n",
       "      <td>2019-08-29</td>\n",
       "      <td>Marriage Story</td>\n",
       "      <td>668735</td>\n",
       "    </tr>\n",
       "    <tr>\n",
       "      <th>12</th>\n",
       "      <td>8</td>\n",
       "      <td>2019-08-30</td>\n",
       "      <td>The Informer</td>\n",
       "      <td>466081</td>\n",
       "    </tr>\n",
       "    <tr>\n",
       "      <th>13</th>\n",
       "      <td>18</td>\n",
       "      <td>2019-09-05</td>\n",
       "      <td>Rocks</td>\n",
       "      <td>575773</td>\n",
       "    </tr>\n",
       "    <tr>\n",
       "      <th>14</th>\n",
       "      <td>23</td>\n",
       "      <td>2019-09-07</td>\n",
       "      <td>Greed</td>\n",
       "      <td>567598</td>\n",
       "    </tr>\n",
       "    <tr>\n",
       "      <th>15</th>\n",
       "      <td>3</td>\n",
       "      <td>2019-11-01</td>\n",
       "      <td>Arctic Dogs</td>\n",
       "      <td>416153</td>\n",
       "    </tr>\n",
       "    <tr>\n",
       "      <th>16</th>\n",
       "      <td>7</td>\n",
       "      <td>2019-11-22</td>\n",
       "      <td>Blue Story</td>\n",
       "      <td>621191</td>\n",
       "    </tr>\n",
       "    <tr>\n",
       "      <th>17</th>\n",
       "      <td>8</td>\n",
       "      <td>2019-11-22</td>\n",
       "      <td>The Courier</td>\n",
       "      <td>611914</td>\n",
       "    </tr>\n",
       "    <tr>\n",
       "      <th>18</th>\n",
       "      <td>9</td>\n",
       "      <td>2019-12-02</td>\n",
       "      <td>The Last Faust</td>\n",
       "      <td>652778</td>\n",
       "    </tr>\n",
       "  </tbody>\n",
       "</table>\n",
       "</div>"
      ],
      "text/plain": [
       "    index   Released                                  English title  TMDB_id\n",
       "0       0 2019-01-16                      The Kid Who Would Be King   454294\n",
       "1       1 2019-01-18                                          Close   460321\n",
       "2       8 2019-01-26                                  The Wolf Hour   483353\n",
       "3       9 2019-01-26                                         Wounds   505423\n",
       "4      21 2019-02-27                                Lancaster Skies   517517\n",
       "5      27 2019-03-15                            Fisherman's Friends   559713\n",
       "6       1 2019-04-19                     Once Upon a Time in London   468339\n",
       "7       3 2019-04-28       Nomad: In the Footsteps of Bruce Chatwin   592710\n",
       "8       6 2019-05-10                                  The Corrupted   512239\n",
       "9      14 2019-05-24                                     Avengement   534490\n",
       "10      2 2019-07-26  Horrible Histories: The Movie – Rotten Romans   553002\n",
       "11      6 2019-08-29                                 Marriage Story   668735\n",
       "12      8 2019-08-30                                   The Informer   466081\n",
       "13     18 2019-09-05                                          Rocks   575773\n",
       "14     23 2019-09-07                                          Greed   567598\n",
       "15      3 2019-11-01                                    Arctic Dogs   416153\n",
       "16      7 2019-11-22                                     Blue Story   621191\n",
       "17      8 2019-11-22                                    The Courier   611914\n",
       "18      9 2019-12-02                                 The Last Faust   652778"
      ]
     },
     "execution_count": 43,
     "metadata": {},
     "output_type": "execute_result"
    }
   ],
   "source": [
    "t"
   ]
  }
 ],
 "metadata": {
  "kernelspec": {
   "display_name": "Python 3",
   "language": "python",
   "name": "python3"
  },
  "language_info": {
   "codemirror_mode": {
    "name": "ipython",
    "version": 3
   },
   "file_extension": ".py",
   "mimetype": "text/x-python",
   "name": "python",
   "nbconvert_exporter": "python",
   "pygments_lexer": "ipython3",
   "version": "3.11.4"
  }
 },
 "nbformat": 4,
 "nbformat_minor": 2
}
