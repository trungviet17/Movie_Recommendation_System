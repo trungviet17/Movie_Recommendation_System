{
 "cells": [
  {
   "cell_type": "markdown",
   "metadata": {},
   "source": [
    "## Import Data"
   ]
  },
  {
   "cell_type": "code",
   "execution_count": 1,
   "metadata": {},
   "outputs": [],
   "source": [
    "import pandas as pd \n",
    "import numpy as np "
   ]
  },
  {
   "cell_type": "code",
   "execution_count": 5,
   "metadata": {},
   "outputs": [],
   "source": [
    "import os\n",
    "\n",
    "main_data_dir = os.path.join(os.path.dirname(os.path.curdir), '..', 'Main_data')\n",
    "main_csv_file = os.path.join(main_data_dir, 'main_1.csv')"
   ]
  },
  {
   "cell_type": "code",
   "execution_count": 14,
   "metadata": {},
   "outputs": [],
   "source": [
    "\n",
    "   \n",
    "main_data = pd.read_csv(main_csv_file)\n",
    "\n",
    "for i in range(2, 12): \n",
    "    main_csv_file = os.path.join(main_data_dir, 'main_' + str(i) + '.csv')\n",
    "    tmp_data = pd.read_csv(main_csv_file)\n",
    "\n",
    "    main_data = pd.concat([main_data, tmp_data])\n",
    "\n",
    "    "
   ]
  },
  {
   "cell_type": "code",
   "execution_count": 15,
   "metadata": {},
   "outputs": [],
   "source": [
    "main_data = main_data[['Released', 'English title', 'TMDB_id', 'Genre', 'Score', 'Popularity', 'Overview', 'Or_lan', 'Casts']]"
   ]
  },
  {
   "cell_type": "code",
   "execution_count": 16,
   "metadata": {},
   "outputs": [],
   "source": [
    "main_data = main_data.reset_index(drop = True)"
   ]
  },
  {
   "cell_type": "code",
   "execution_count": 17,
   "metadata": {},
   "outputs": [
    {
     "data": {
      "text/html": [
       "<div>\n",
       "<style scoped>\n",
       "    .dataframe tbody tr th:only-of-type {\n",
       "        vertical-align: middle;\n",
       "    }\n",
       "\n",
       "    .dataframe tbody tr th {\n",
       "        vertical-align: top;\n",
       "    }\n",
       "\n",
       "    .dataframe thead th {\n",
       "        text-align: right;\n",
       "    }\n",
       "</style>\n",
       "<table border=\"1\" class=\"dataframe\">\n",
       "  <thead>\n",
       "    <tr style=\"text-align: right;\">\n",
       "      <th></th>\n",
       "      <th>Released</th>\n",
       "      <th>English title</th>\n",
       "      <th>TMDB_id</th>\n",
       "      <th>Genre</th>\n",
       "      <th>Score</th>\n",
       "      <th>Popularity</th>\n",
       "      <th>Overview</th>\n",
       "      <th>Or_lan</th>\n",
       "      <th>Casts</th>\n",
       "    </tr>\n",
       "  </thead>\n",
       "  <tbody>\n",
       "    <tr>\n",
       "      <th>10249</th>\n",
       "      <td>2003-04-16</td>\n",
       "      <td>Chasing Papi</td>\n",
       "      <td>24621</td>\n",
       "      <td>Comedy Romance</td>\n",
       "      <td>6.896</td>\n",
       "      <td>11.638</td>\n",
       "      <td>Playboy Thomas Fuentes has so far been able to...</td>\n",
       "      <td>en</td>\n",
       "      <td>{'cast': [{'adult': False, 'gender': 1, 'id': ...</td>\n",
       "    </tr>\n",
       "    <tr>\n",
       "      <th>10250</th>\n",
       "      <td>2003-04-16</td>\n",
       "      <td>A Mighty Wind</td>\n",
       "      <td>13370</td>\n",
       "      <td>Comedy Music</td>\n",
       "      <td>6.804</td>\n",
       "      <td>19.548</td>\n",
       "      <td>Director Christopher Guest reunites the team f...</td>\n",
       "      <td>en</td>\n",
       "      <td>{'cast': [{'adult': False, 'gender': 2, 'id': ...</td>\n",
       "    </tr>\n",
       "    <tr>\n",
       "      <th>10251</th>\n",
       "      <td>2003-04-18</td>\n",
       "      <td>Holes</td>\n",
       "      <td>8326</td>\n",
       "      <td>Adventure Family Drama Comedy</td>\n",
       "      <td>6.844</td>\n",
       "      <td>27.043</td>\n",
       "      <td>A wrongfully convicted boy is sent to a brutal...</td>\n",
       "      <td>en</td>\n",
       "      <td>{'cast': [{'adult': False, 'gender': 2, 'id': ...</td>\n",
       "    </tr>\n",
       "    <tr>\n",
       "      <th>10252</th>\n",
       "      <td>2003-04-25</td>\n",
       "      <td>Confidence</td>\n",
       "      <td>10743</td>\n",
       "      <td>Action Comedy Thriller Crime Mystery</td>\n",
       "      <td>6.274</td>\n",
       "      <td>10.961</td>\n",
       "      <td>What Jake Vig doesn't know just might get him ...</td>\n",
       "      <td>en</td>\n",
       "      <td>{'cast': [{'adult': False, 'gender': 2, 'id': ...</td>\n",
       "    </tr>\n",
       "    <tr>\n",
       "      <th>10253</th>\n",
       "      <td>2003-04-25</td>\n",
       "      <td>Identity</td>\n",
       "      <td>2832</td>\n",
       "      <td>Mystery Thriller</td>\n",
       "      <td>7.183</td>\n",
       "      <td>29.037</td>\n",
       "      <td>Complete strangers stranded at a remote desert...</td>\n",
       "      <td>en</td>\n",
       "      <td>{'cast': [{'adult': False, 'gender': 2, 'id': ...</td>\n",
       "    </tr>\n",
       "  </tbody>\n",
       "</table>\n",
       "</div>"
      ],
      "text/plain": [
       "         Released  English title  TMDB_id  \\\n",
       "10249  2003-04-16   Chasing Papi    24621   \n",
       "10250  2003-04-16  A Mighty Wind    13370   \n",
       "10251  2003-04-18          Holes     8326   \n",
       "10252  2003-04-25     Confidence    10743   \n",
       "10253  2003-04-25       Identity     2832   \n",
       "\n",
       "                                       Genre  Score  Popularity  \\\n",
       "10249                         Comedy Romance  6.896      11.638   \n",
       "10250                           Comedy Music  6.804      19.548   \n",
       "10251          Adventure Family Drama Comedy  6.844      27.043   \n",
       "10252   Action Comedy Thriller Crime Mystery  6.274      10.961   \n",
       "10253                       Mystery Thriller  7.183      29.037   \n",
       "\n",
       "                                                Overview Or_lan  \\\n",
       "10249  Playboy Thomas Fuentes has so far been able to...     en   \n",
       "10250  Director Christopher Guest reunites the team f...     en   \n",
       "10251  A wrongfully convicted boy is sent to a brutal...     en   \n",
       "10252  What Jake Vig doesn't know just might get him ...     en   \n",
       "10253  Complete strangers stranded at a remote desert...     en   \n",
       "\n",
       "                                                   Casts  \n",
       "10249  {'cast': [{'adult': False, 'gender': 1, 'id': ...  \n",
       "10250  {'cast': [{'adult': False, 'gender': 2, 'id': ...  \n",
       "10251  {'cast': [{'adult': False, 'gender': 2, 'id': ...  \n",
       "10252  {'cast': [{'adult': False, 'gender': 2, 'id': ...  \n",
       "10253  {'cast': [{'adult': False, 'gender': 2, 'id': ...  "
      ]
     },
     "execution_count": 17,
     "metadata": {},
     "output_type": "execute_result"
    }
   ],
   "source": [
    "main_data.tail()"
   ]
  },
  {
   "cell_type": "code",
   "execution_count": 18,
   "metadata": {},
   "outputs": [],
   "source": [
    "main_data['Casts'] = main_data['Casts'].apply(lambda x : eval(x))"
   ]
  },
  {
   "cell_type": "code",
   "execution_count": 19,
   "metadata": {},
   "outputs": [],
   "source": [
    "def casts_info_name (x: dict, i: int): \n",
    "    if 'cast' not in x : return None \n",
    "    if len(x['cast']) < i : return None \n",
    "    return x['cast'][i - 1]['name']\n",
    "\n",
    "def casts_info_po (x: dict, i: int): \n",
    "    if 'cast' not in x : return None \n",
    "    if len(x['cast']) < i : return None \n",
    "    return x['cast'][i - 1]['popularity']\n",
    "\n",
    "\n",
    "for i in range(1,  4): \n",
    "    path = 'Actor_' + str(i)\n",
    "    main_data[path + '_name'] = main_data['Casts'].apply(lambda x: casts_info_name(x, i))\n",
    "    main_data[path + '_popu'] = main_data['Casts'].apply(lambda x: casts_info_po(x, i))\n"
   ]
  },
  {
   "cell_type": "code",
   "execution_count": 20,
   "metadata": {},
   "outputs": [
    {
     "name": "stdout",
     "output_type": "stream",
     "text": [
      "<class 'pandas.core.frame.DataFrame'>\n",
      "RangeIndex: 10254 entries, 0 to 10253\n",
      "Data columns (total 15 columns):\n",
      " #   Column         Non-Null Count  Dtype  \n",
      "---  ------         --------------  -----  \n",
      " 0   Released       10254 non-null  object \n",
      " 1   English title  10254 non-null  object \n",
      " 2   TMDB_id        10254 non-null  int64  \n",
      " 3   Genre          10075 non-null  object \n",
      " 4   Score          10254 non-null  float64\n",
      " 5   Popularity     10254 non-null  float64\n",
      " 6   Overview       9974 non-null   object \n",
      " 7   Or_lan         10254 non-null  object \n",
      " 8   Casts          10254 non-null  object \n",
      " 9   Actor_1_name   10144 non-null  object \n",
      " 10  Actor_1_popu   10144 non-null  float64\n",
      " 11  Actor_2_name   10077 non-null  object \n",
      " 12  Actor_2_popu   10077 non-null  float64\n",
      " 13  Actor_3_name   9987 non-null   object \n",
      " 14  Actor_3_popu   9987 non-null   float64\n",
      "dtypes: float64(5), int64(1), object(9)\n",
      "memory usage: 1.2+ MB\n"
     ]
    }
   ],
   "source": [
    "main_data.info()"
   ]
  },
  {
   "cell_type": "code",
   "execution_count": 22,
   "metadata": {},
   "outputs": [],
   "source": [
    "main_data =  main_data[~main_data['Genre'].isna()]"
   ]
  },
  {
   "cell_type": "code",
   "execution_count": 23,
   "metadata": {},
   "outputs": [
    {
     "name": "stdout",
     "output_type": "stream",
     "text": [
      "<class 'pandas.core.frame.DataFrame'>\n",
      "Index: 10075 entries, 0 to 10253\n",
      "Data columns (total 15 columns):\n",
      " #   Column         Non-Null Count  Dtype  \n",
      "---  ------         --------------  -----  \n",
      " 0   Released       10075 non-null  object \n",
      " 1   English title  10075 non-null  object \n",
      " 2   TMDB_id        10075 non-null  int64  \n",
      " 3   Genre          10075 non-null  object \n",
      " 4   Score          10075 non-null  float64\n",
      " 5   Popularity     10075 non-null  float64\n",
      " 6   Overview       9861 non-null   object \n",
      " 7   Or_lan         10075 non-null  object \n",
      " 8   Casts          10075 non-null  object \n",
      " 9   Actor_1_name   9993 non-null   object \n",
      " 10  Actor_1_popu   9993 non-null   float64\n",
      " 11  Actor_2_name   9942 non-null   object \n",
      " 12  Actor_2_popu   9942 non-null   float64\n",
      " 13  Actor_3_name   9874 non-null   object \n",
      " 14  Actor_3_popu   9874 non-null   float64\n",
      "dtypes: float64(5), int64(1), object(9)\n",
      "memory usage: 1.2+ MB\n"
     ]
    }
   ],
   "source": [
    "main_data.info()"
   ]
  },
  {
   "cell_type": "code",
   "execution_count": 24,
   "metadata": {},
   "outputs": [],
   "source": [
    "result =  main_data.drop(['TMDB_id', 'Casts'],axis = 1)"
   ]
  },
  {
   "cell_type": "code",
   "execution_count": 25,
   "metadata": {},
   "outputs": [],
   "source": [
    "result.to_csv('final.csv')"
   ]
  }
 ],
 "metadata": {
  "kernelspec": {
   "display_name": "Python 3",
   "language": "python",
   "name": "python3"
  },
  "language_info": {
   "codemirror_mode": {
    "name": "ipython",
    "version": 3
   },
   "file_extension": ".py",
   "mimetype": "text/x-python",
   "name": "python",
   "nbconvert_exporter": "python",
   "pygments_lexer": "ipython3",
   "version": "3.11.9"
  }
 },
 "nbformat": 4,
 "nbformat_minor": 2
}
