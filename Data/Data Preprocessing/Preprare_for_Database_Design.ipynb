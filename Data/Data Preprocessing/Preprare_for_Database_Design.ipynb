{
 "cells": [
  {
   "cell_type": "markdown",
   "metadata": {},
   "source": [
    "## Import Data"
   ]
  },
  {
   "cell_type": "code",
   "execution_count": 32,
   "metadata": {},
   "outputs": [],
   "source": [
    "import pandas as pd \n",
    "import numpy as np "
   ]
  },
  {
   "cell_type": "code",
   "execution_count": 33,
   "metadata": {},
   "outputs": [],
   "source": [
    "import os\n",
    "\n",
    "main_data_dir = os.path.join(os.path.dirname(os.path.curdir), '..', 'Main_data')\n",
    "main_csv_file = os.path.join(main_data_dir, 'main_1.csv')"
   ]
  },
  {
   "cell_type": "code",
   "execution_count": 34,
   "metadata": {},
   "outputs": [],
   "source": [
    "\n",
    "   \n",
    "main_data = pd.read_csv(main_csv_file)\n",
    "\n",
    "for i in range(2, 6): \n",
    "    main_csv_file = os.path.join(main_data_dir, 'main_' + str(i) + '.csv')\n",
    "    tmp_data = pd.read_csv(main_csv_file)\n",
    "\n",
    "    main_data = pd.concat([main_data, tmp_data])\n",
    "\n",
    "    "
   ]
  },
  {
   "cell_type": "code",
   "execution_count": 35,
   "metadata": {},
   "outputs": [],
   "source": [
    "main_data.drop(['Unnamed: 0'], inplace = True, axis = 1)"
   ]
  },
  {
   "cell_type": "code",
   "execution_count": 36,
   "metadata": {},
   "outputs": [],
   "source": [
    "main_data = main_data.reset_index(drop = True)"
   ]
  },
  {
   "cell_type": "code",
   "execution_count": 37,
   "metadata": {},
   "outputs": [
    {
     "data": {
      "text/html": [
       "<div>\n",
       "<style scoped>\n",
       "    .dataframe tbody tr th:only-of-type {\n",
       "        vertical-align: middle;\n",
       "    }\n",
       "\n",
       "    .dataframe tbody tr th {\n",
       "        vertical-align: top;\n",
       "    }\n",
       "\n",
       "    .dataframe thead th {\n",
       "        text-align: right;\n",
       "    }\n",
       "</style>\n",
       "<table border=\"1\" class=\"dataframe\">\n",
       "  <thead>\n",
       "    <tr style=\"text-align: right;\">\n",
       "      <th></th>\n",
       "      <th>Released</th>\n",
       "      <th>English title</th>\n",
       "      <th>TMDB_id</th>\n",
       "      <th>Genre</th>\n",
       "      <th>Score</th>\n",
       "      <th>Popularity</th>\n",
       "      <th>Overview</th>\n",
       "      <th>Or_lan</th>\n",
       "      <th>Casts</th>\n",
       "    </tr>\n",
       "  </thead>\n",
       "  <tbody>\n",
       "    <tr>\n",
       "      <th>0</th>\n",
       "      <td>2013-01-18</td>\n",
       "      <td>The Wee Man</td>\n",
       "      <td>121604</td>\n",
       "      <td>Drama Crime History</td>\n",
       "      <td>5.663</td>\n",
       "      <td>10.262</td>\n",
       "      <td>The true life story of the rise to power of Gl...</td>\n",
       "      <td>en</td>\n",
       "      <td>{'cast': [{'adult': False, 'gender': 2, 'id': ...</td>\n",
       "    </tr>\n",
       "    <tr>\n",
       "      <th>1</th>\n",
       "      <td>2013-02-04</td>\n",
       "      <td>Gangs of Tooting Broadway</td>\n",
       "      <td>115459</td>\n",
       "      <td>Crime Drama</td>\n",
       "      <td>6.000</td>\n",
       "      <td>1.400</td>\n",
       "      <td>Tooting Broadway is an urban crime drama set i...</td>\n",
       "      <td>en</td>\n",
       "      <td>{'cast': [{'adult': False, 'gender': 1, 'id': ...</td>\n",
       "    </tr>\n",
       "    <tr>\n",
       "      <th>2</th>\n",
       "      <td>2013-02-08</td>\n",
       "      <td>I Give It a Year</td>\n",
       "      <td>150117</td>\n",
       "      <td>Comedy Romance</td>\n",
       "      <td>5.527</td>\n",
       "      <td>13.156</td>\n",
       "      <td>After a quick courtship, two lovers hastily de...</td>\n",
       "      <td>en</td>\n",
       "      <td>{'cast': [{'adult': False, 'gender': 2, 'id': ...</td>\n",
       "    </tr>\n",
       "    <tr>\n",
       "      <th>3</th>\n",
       "      <td>2013-03-04</td>\n",
       "      <td>Pulp</td>\n",
       "      <td>139026</td>\n",
       "      <td>Drama Thriller</td>\n",
       "      <td>6.000</td>\n",
       "      <td>1.357</td>\n",
       "      <td>Thunder Racers, Infinite Finity, Rat Warriors....</td>\n",
       "      <td>en</td>\n",
       "      <td>{'cast': [{'adult': False, 'gender': 2, 'id': ...</td>\n",
       "    </tr>\n",
       "    <tr>\n",
       "      <th>4</th>\n",
       "      <td>2013-03-10</td>\n",
       "      <td>Everyone's Going to Die</td>\n",
       "      <td>173499</td>\n",
       "      <td>Drama</td>\n",
       "      <td>6.100</td>\n",
       "      <td>3.259</td>\n",
       "      <td>Melanie's life in a seaside town is going nowh...</td>\n",
       "      <td>en</td>\n",
       "      <td>{'cast': [{'adult': False, 'gender': 1, 'id': ...</td>\n",
       "    </tr>\n",
       "  </tbody>\n",
       "</table>\n",
       "</div>"
      ],
      "text/plain": [
       "     Released              English title  TMDB_id                 Genre  \\\n",
       "0  2013-01-18                The Wee Man   121604   Drama Crime History   \n",
       "1  2013-02-04  Gangs of Tooting Broadway   115459           Crime Drama   \n",
       "2  2013-02-08           I Give It a Year   150117        Comedy Romance   \n",
       "3  2013-03-04                       Pulp   139026        Drama Thriller   \n",
       "4  2013-03-10    Everyone's Going to Die   173499                 Drama   \n",
       "\n",
       "   Score  Popularity                                           Overview  \\\n",
       "0  5.663      10.262  The true life story of the rise to power of Gl...   \n",
       "1  6.000       1.400  Tooting Broadway is an urban crime drama set i...   \n",
       "2  5.527      13.156  After a quick courtship, two lovers hastily de...   \n",
       "3  6.000       1.357  Thunder Racers, Infinite Finity, Rat Warriors....   \n",
       "4  6.100       3.259  Melanie's life in a seaside town is going nowh...   \n",
       "\n",
       "  Or_lan                                              Casts  \n",
       "0     en  {'cast': [{'adult': False, 'gender': 2, 'id': ...  \n",
       "1     en  {'cast': [{'adult': False, 'gender': 1, 'id': ...  \n",
       "2     en  {'cast': [{'adult': False, 'gender': 2, 'id': ...  \n",
       "3     en  {'cast': [{'adult': False, 'gender': 2, 'id': ...  \n",
       "4     en  {'cast': [{'adult': False, 'gender': 1, 'id': ...  "
      ]
     },
     "execution_count": 37,
     "metadata": {},
     "output_type": "execute_result"
    }
   ],
   "source": [
    "main_data.head()"
   ]
  },
  {
   "cell_type": "code",
   "execution_count": 38,
   "metadata": {},
   "outputs": [],
   "source": [
    "main_data['Casts'] = main_data['Casts'].apply(lambda x : eval(x))"
   ]
  },
  {
   "cell_type": "code",
   "execution_count": 41,
   "metadata": {},
   "outputs": [],
   "source": [
    "def casts_info_name (x: dict, i: int): \n",
    "    if 'cast' not in x : return None \n",
    "    if len(x['cast']) < i : return None \n",
    "    return x['cast'][i - 1]['name']\n",
    "\n",
    "def casts_info_po (x: dict, i: int): \n",
    "    if 'cast' not in x : return None \n",
    "    if len(x['cast']) < i : return None \n",
    "    return x['cast'][i - 1]['popularity']\n",
    "\n",
    "\n",
    "for i in range(1,  4): \n",
    "    path = 'Actor_' + str(i)\n",
    "    main_data[path + '_name'] = main_data['Casts'].apply(lambda x: casts_info_name(x, i))\n",
    "    main_data[path + '_popu'] = main_data['Casts'].apply(lambda x: casts_info_po(x, i))\n"
   ]
  },
  {
   "cell_type": "code",
   "execution_count": 43,
   "metadata": {},
   "outputs": [
    {
     "name": "stdout",
     "output_type": "stream",
     "text": [
      "<class 'pandas.core.frame.DataFrame'>\n",
      "RangeIndex: 9938 entries, 0 to 9937\n",
      "Data columns (total 15 columns):\n",
      " #   Column         Non-Null Count  Dtype  \n",
      "---  ------         --------------  -----  \n",
      " 0   Released       9938 non-null   object \n",
      " 1   English title  9938 non-null   object \n",
      " 2   TMDB_id        9938 non-null   int64  \n",
      " 3   Genre          9756 non-null   object \n",
      " 4   Score          9938 non-null   float64\n",
      " 5   Popularity     9938 non-null   float64\n",
      " 6   Overview       9658 non-null   object \n",
      " 7   Or_lan         9938 non-null   object \n",
      " 8   Casts          9938 non-null   object \n",
      " 9   Actor_1_name   9823 non-null   object \n",
      " 10  Actor_1_popu   9823 non-null   float64\n",
      " 11  Actor_2_name   9755 non-null   object \n",
      " 12  Actor_2_popu   9755 non-null   float64\n",
      " 13  Actor_3_name   9666 non-null   object \n",
      " 14  Actor_3_popu   9666 non-null   float64\n",
      "dtypes: float64(5), int64(1), object(9)\n",
      "memory usage: 1.1+ MB\n"
     ]
    }
   ],
   "source": [
    "main_data.info()"
   ]
  },
  {
   "cell_type": "code",
   "execution_count": 45,
   "metadata": {},
   "outputs": [],
   "source": [
    "result =  main_data.drop(['TMDB_id', 'Casts'],axis = 1)"
   ]
  },
  {
   "cell_type": "code",
   "execution_count": null,
   "metadata": {},
   "outputs": [],
   "source": [
    "result.to_csv('final.csv')"
   ]
  }
 ],
 "metadata": {
  "kernelspec": {
   "display_name": "Python 3",
   "language": "python",
   "name": "python3"
  },
  "language_info": {
   "codemirror_mode": {
    "name": "ipython",
    "version": 3
   },
   "file_extension": ".py",
   "mimetype": "text/x-python",
   "name": "python",
   "nbconvert_exporter": "python",
   "pygments_lexer": "ipython3",
   "version": "3.11.4"
  }
 },
 "nbformat": 4,
 "nbformat_minor": 2
}
