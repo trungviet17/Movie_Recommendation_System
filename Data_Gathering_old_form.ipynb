{
 "cells": [
  {
   "cell_type": "markdown",
   "metadata": {},
   "source": [
    "# Import needed library"
   ]
  },
  {
   "cell_type": "code",
   "execution_count": 1,
   "metadata": {},
   "outputs": [],
   "source": [
    "import pandas as pd \n",
    "import numpy as np \n",
    "import tmdbv3api as tmdb "
   ]
  },
  {
   "cell_type": "markdown",
   "metadata": {},
   "source": [
    "# Data Gathering\n",
    "- Dữ liệu thu thập tới từ list film của Anh, Mỹ, Nhật, Hàn, Trung quốc, Việt Nam, Nga, Pháp, Đức\n",
    "- Tên phim theo các năm được lấy từ wikipedia, dữ liệu từ APi tmdb\n",
    "- Thời gian từ 2020s - 1990s "
   ]
  },
  {
   "cell_type": "code",
   "execution_count": 2,
   "metadata": {},
   "outputs": [],
   "source": [
    "from tmdbv3api import TMDb, Movie, Search\n",
    "from os import getenv\n",
    "tmdb = TMDb()\n",
    "\n",
    "tmdb.api_key = getenv('TMDB_API_KEY')\n",
    "search = Search()"
   ]
  },
  {
   "cell_type": "markdown",
   "metadata": {},
   "source": [
    "## Korean "
   ]
  },
  {
   "cell_type": "markdown",
   "metadata": {},
   "source": [
    "- Dữ liệu dạng bảng từ 2007 - 2019 \n",
    "- Dữ liệu từ 2007 - 2008: Cột en-title trùng với kor-title "
   ]
  },
  {
   "cell_type": "code",
   "execution_count": 7,
   "metadata": {},
   "outputs": [],
   "source": [
    "from typing import List\n",
    "pre_link = 'https://en.wikipedia.org/wiki/List_of_Japanese_films_of_'\n",
    "\n",
    "\n",
    "\n",
    "def title_handle(lst: List): \n",
    "    res = ''\n",
    "    for i in lst[:-1]: \n",
    "        res += i  + ' '\n",
    "\n",
    "    return res\n",
    "\"\"\"\n",
    "- Hàm lấy dữ liệu film từ wiki : \n",
    "- Hàm trả về en-title + năm của phim \n",
    "- Đầu vào là năm  \n",
    "\"\"\"\n",
    "\n",
    "def get_films_on_wiki(year: int): \n",
    "    link = pre_link + str(year)\n",
    "\n",
    "    page_tables = pd.read_html(link, header= None)\n",
    "\n",
    "    sub_df = page_tables[2]\n",
    "    res = sub_df[['Opening', 'Title']].copy()\n",
    "    res.rename(columns={'Opening': 'Released', 'Title': 'English title'}, inplace=True)\n",
    "    # xử lý title của film\n",
    "    # if year == 2007 or year == 2008: \n",
    "    #     sub_df['English titles'] = sub_df['English/Korean Title'].str.split(r'([a-zA-Z]+)')\n",
    "    #     sub_df['English title'] = sub_df['English titles'].apply(lambda x: title_handle(x))\n",
    "\n",
    "    \n",
    "    res.dropna(inplace=True)\n",
    "    return res\n",
    "\n",
    "\n",
    "    "
   ]
  },
  {
   "cell_type": "code",
   "execution_count": 4,
   "metadata": {},
   "outputs": [],
   "source": [
    "dct = {\n",
    "    'january' : 1, \n",
    "    'february' : 2,\n",
    "    'march' : 3, \n",
    "    'april' :  4,\n",
    "    'may' : 5, \n",
    "    'june' : 6, \n",
    "    'july' : 7, \n",
    "    'august' : 8, \n",
    "    'september' : 9, \n",
    "    'october' : 10, \n",
    "    'november' : 11, \n",
    "    'december' : 12\n",
    "}\n",
    "# thay đổi year \n",
    "def change_year_type(x,  year: int): \n",
    "    num_month = dct[x[1]]\n",
    "    return str(year)  + '-' + str(num_month) + '-' + x[0]\n",
    "\n",
    "# thay đổi cột released trong bảng \n",
    "def change_release_year(df: pd.DataFrame, year: int): \n",
    "    df['Released'] = df['Released'].str.lower()\n",
    "\n",
    "    df[['Day', 'Month', 'Ex']] = df['Released'].str.extract(r'(\\d+)\\s+(\\w+)(\\[.*\\])*')\n",
    "    \n",
    "\n",
    "    df['Day'] = df['Day'].astype('str')\n",
    "    df['Released'] = df[['Day', 'Month']].apply(lambda x: change_year_type(x, year), axis = 1)\n",
    "    df['Released'] = pd.to_datetime(df['Released'])\n",
    "    df.drop(['Day', 'Month', 'Ex'], axis = 1, inplace = True)\n",
    "    \n",
    "    return df\n",
    "\n",
    "# thêm thuộc tính id vào trong table \n",
    "def get_tmdb_id(title: str, release_date): \n",
    "    t  = release_date.year\n",
    "    movie = search.movies(title, release_year=t)\n",
    "\n",
    "    for j in movie['results']: \n",
    "        if j['release_date'] == release_date.strftime('%Y-%m-%d'): \n",
    "            return j['id']\n",
    "        \n",
    "    return None\n",
    "\n"
   ]
  },
  {
   "cell_type": "code",
   "execution_count": 9,
   "metadata": {},
   "outputs": [
    {
     "name": "stdout",
     "output_type": "stream",
     "text": [
      "Processing year 2009\n"
     ]
    },
    {
     "name": "stderr",
     "output_type": "stream",
     "text": [
      "C:\\Users\\Asus\\AppData\\Local\\Temp\\ipykernel_18024\\303362258.py:17: FutureWarning: Series.__getitem__ treating keys as positions is deprecated. In a future version, integer keys will always be treated as labels (consistent with DataFrame behavior). To access a value by position, use `ser.iloc[pos]`\n",
      "  num_month = dct[x[1]]\n",
      "C:\\Users\\Asus\\AppData\\Local\\Temp\\ipykernel_18024\\303362258.py:18: FutureWarning: Series.__getitem__ treating keys as positions is deprecated. In a future version, integer keys will always be treated as labels (consistent with DataFrame behavior). To access a value by position, use `ser.iloc[pos]`\n",
      "  return str(year)  + '-' + str(num_month) + '-' + x[0]\n",
      "C:\\Users\\Asus\\AppData\\Local\\Temp\\ipykernel_18024\\3939438557.py:9: FutureWarning: Series.__getitem__ treating keys as positions is deprecated. In a future version, integer keys will always be treated as labels (consistent with DataFrame behavior). To access a value by position, use `ser.iloc[pos]`\n",
      "  data_clean['TMDB_id'] = data_clean[['English title', 'Released']].apply(lambda x: get_tmdb_id(x[0],  x[1]), axis = 1)\n",
      "C:\\Users\\Asus\\AppData\\Local\\Temp\\ipykernel_18024\\3939438557.py:10: FutureWarning: The behavior of DataFrame concatenation with empty or all-NA entries is deprecated. In a future version, this will no longer exclude empty or all-NA columns when determining the result dtypes. To retain the old behavior, exclude the relevant entries before the concat operation.\n",
      "  data_set = pd.concat([data_set, data_clean])\n"
     ]
    },
    {
     "name": "stdout",
     "output_type": "stream",
     "text": [
      "Processing year 2010\n"
     ]
    },
    {
     "name": "stderr",
     "output_type": "stream",
     "text": [
      "C:\\Users\\Asus\\AppData\\Local\\Temp\\ipykernel_18024\\303362258.py:17: FutureWarning: Series.__getitem__ treating keys as positions is deprecated. In a future version, integer keys will always be treated as labels (consistent with DataFrame behavior). To access a value by position, use `ser.iloc[pos]`\n",
      "  num_month = dct[x[1]]\n",
      "C:\\Users\\Asus\\AppData\\Local\\Temp\\ipykernel_18024\\303362258.py:18: FutureWarning: Series.__getitem__ treating keys as positions is deprecated. In a future version, integer keys will always be treated as labels (consistent with DataFrame behavior). To access a value by position, use `ser.iloc[pos]`\n",
      "  return str(year)  + '-' + str(num_month) + '-' + x[0]\n",
      "C:\\Users\\Asus\\AppData\\Local\\Temp\\ipykernel_18024\\3939438557.py:9: FutureWarning: Series.__getitem__ treating keys as positions is deprecated. In a future version, integer keys will always be treated as labels (consistent with DataFrame behavior). To access a value by position, use `ser.iloc[pos]`\n",
      "  data_clean['TMDB_id'] = data_clean[['English title', 'Released']].apply(lambda x: get_tmdb_id(x[0],  x[1]), axis = 1)\n"
     ]
    },
    {
     "name": "stdout",
     "output_type": "stream",
     "text": [
      "Processing year 2011\n"
     ]
    },
    {
     "name": "stderr",
     "output_type": "stream",
     "text": [
      "C:\\Users\\Asus\\AppData\\Local\\Temp\\ipykernel_18024\\303362258.py:17: FutureWarning: Series.__getitem__ treating keys as positions is deprecated. In a future version, integer keys will always be treated as labels (consistent with DataFrame behavior). To access a value by position, use `ser.iloc[pos]`\n",
      "  num_month = dct[x[1]]\n",
      "C:\\Users\\Asus\\AppData\\Local\\Temp\\ipykernel_18024\\303362258.py:18: FutureWarning: Series.__getitem__ treating keys as positions is deprecated. In a future version, integer keys will always be treated as labels (consistent with DataFrame behavior). To access a value by position, use `ser.iloc[pos]`\n",
      "  return str(year)  + '-' + str(num_month) + '-' + x[0]\n",
      "C:\\Users\\Asus\\AppData\\Local\\Temp\\ipykernel_18024\\3939438557.py:9: FutureWarning: Series.__getitem__ treating keys as positions is deprecated. In a future version, integer keys will always be treated as labels (consistent with DataFrame behavior). To access a value by position, use `ser.iloc[pos]`\n",
      "  data_clean['TMDB_id'] = data_clean[['English title', 'Released']].apply(lambda x: get_tmdb_id(x[0],  x[1]), axis = 1)\n"
     ]
    },
    {
     "name": "stdout",
     "output_type": "stream",
     "text": [
      "Processing year 2012\n"
     ]
    },
    {
     "name": "stderr",
     "output_type": "stream",
     "text": [
      "C:\\Users\\Asus\\AppData\\Local\\Temp\\ipykernel_18024\\303362258.py:17: FutureWarning: Series.__getitem__ treating keys as positions is deprecated. In a future version, integer keys will always be treated as labels (consistent with DataFrame behavior). To access a value by position, use `ser.iloc[pos]`\n",
      "  num_month = dct[x[1]]\n",
      "C:\\Users\\Asus\\AppData\\Local\\Temp\\ipykernel_18024\\303362258.py:18: FutureWarning: Series.__getitem__ treating keys as positions is deprecated. In a future version, integer keys will always be treated as labels (consistent with DataFrame behavior). To access a value by position, use `ser.iloc[pos]`\n",
      "  return str(year)  + '-' + str(num_month) + '-' + x[0]\n",
      "C:\\Users\\Asus\\AppData\\Local\\Temp\\ipykernel_18024\\3939438557.py:9: FutureWarning: Series.__getitem__ treating keys as positions is deprecated. In a future version, integer keys will always be treated as labels (consistent with DataFrame behavior). To access a value by position, use `ser.iloc[pos]`\n",
      "  data_clean['TMDB_id'] = data_clean[['English title', 'Released']].apply(lambda x: get_tmdb_id(x[0],  x[1]), axis = 1)\n"
     ]
    },
    {
     "data": {
      "text/html": [
       "<div>\n",
       "<style scoped>\n",
       "    .dataframe tbody tr th:only-of-type {\n",
       "        vertical-align: middle;\n",
       "    }\n",
       "\n",
       "    .dataframe tbody tr th {\n",
       "        vertical-align: top;\n",
       "    }\n",
       "\n",
       "    .dataframe thead th {\n",
       "        text-align: right;\n",
       "    }\n",
       "</style>\n",
       "<table border=\"1\" class=\"dataframe\">\n",
       "  <thead>\n",
       "    <tr style=\"text-align: right;\">\n",
       "      <th></th>\n",
       "      <th>English title</th>\n",
       "      <th>Released</th>\n",
       "      <th>TMDB_id</th>\n",
       "    </tr>\n",
       "  </thead>\n",
       "  <tbody>\n",
       "    <tr>\n",
       "      <th>0</th>\n",
       "      <td>20th Century Boys 2: The Last Hope</td>\n",
       "      <td>2009-01-31</td>\n",
       "      <td>NaN</td>\n",
       "    </tr>\n",
       "    <tr>\n",
       "      <th>1</th>\n",
       "      <td>20th Century Boys 3: Redemption</td>\n",
       "      <td>2009-08-29</td>\n",
       "      <td>NaN</td>\n",
       "    </tr>\n",
       "    <tr>\n",
       "      <th>2</th>\n",
       "      <td>Air Doll</td>\n",
       "      <td>2009-05-14</td>\n",
       "      <td>NaN</td>\n",
       "    </tr>\n",
       "    <tr>\n",
       "      <th>3</th>\n",
       "      <td>Amalfi: Rewards of the Goddess</td>\n",
       "      <td>2009-07-18</td>\n",
       "      <td>46194.0</td>\n",
       "    </tr>\n",
       "    <tr>\n",
       "      <th>4</th>\n",
       "      <td>April Bride</td>\n",
       "      <td>2009-05-09</td>\n",
       "      <td>55749.0</td>\n",
       "    </tr>\n",
       "  </tbody>\n",
       "</table>\n",
       "</div>"
      ],
      "text/plain": [
       "                        English title   Released  TMDB_id\n",
       "0  20th Century Boys 2: The Last Hope 2009-01-31      NaN\n",
       "1     20th Century Boys 3: Redemption 2009-08-29      NaN\n",
       "2                            Air Doll 2009-05-14      NaN\n",
       "3      Amalfi: Rewards of the Goddess 2009-07-18  46194.0\n",
       "4                         April Bride 2009-05-09  55749.0"
      ]
     },
     "execution_count": 9,
     "metadata": {},
     "output_type": "execute_result"
    }
   ],
   "source": [
    "data_set = pd.DataFrame(columns=['English title', 'Released', 'TMDB_id'])\n",
    "\n",
    "\n",
    "for i in range(2009, 2013): \n",
    "    print(f\"Processing year {i}\")\n",
    "    raw_data = get_films_on_wiki(i)\n",
    "    \n",
    "    data_clean = change_release_year(raw_data, i)\n",
    "    data_clean['TMDB_id'] = data_clean[['English title', 'Released']].apply(lambda x: get_tmdb_id(x[0],  x[1]), axis = 1) \n",
    "    data_set = pd.concat([data_set, data_clean])\n",
    "\n",
    "data_set.head()\n"
   ]
  },
  {
   "cell_type": "code",
   "execution_count": 10,
   "metadata": {},
   "outputs": [
    {
     "data": {
      "text/html": [
       "<div>\n",
       "<style scoped>\n",
       "    .dataframe tbody tr th:only-of-type {\n",
       "        vertical-align: middle;\n",
       "    }\n",
       "\n",
       "    .dataframe tbody tr th {\n",
       "        vertical-align: top;\n",
       "    }\n",
       "\n",
       "    .dataframe thead th {\n",
       "        text-align: right;\n",
       "    }\n",
       "</style>\n",
       "<table border=\"1\" class=\"dataframe\">\n",
       "  <thead>\n",
       "    <tr style=\"text-align: right;\">\n",
       "      <th></th>\n",
       "      <th>English title</th>\n",
       "      <th>Released</th>\n",
       "      <th>TMDB_id</th>\n",
       "    </tr>\n",
       "  </thead>\n",
       "  <tbody>\n",
       "    <tr>\n",
       "      <th>0</th>\n",
       "      <td>20th Century Boys 2: The Last Hope</td>\n",
       "      <td>2009-01-31</td>\n",
       "      <td>NaN</td>\n",
       "    </tr>\n",
       "    <tr>\n",
       "      <th>1</th>\n",
       "      <td>20th Century Boys 3: Redemption</td>\n",
       "      <td>2009-08-29</td>\n",
       "      <td>NaN</td>\n",
       "    </tr>\n",
       "    <tr>\n",
       "      <th>2</th>\n",
       "      <td>Air Doll</td>\n",
       "      <td>2009-05-14</td>\n",
       "      <td>NaN</td>\n",
       "    </tr>\n",
       "    <tr>\n",
       "      <th>3</th>\n",
       "      <td>Amalfi: Rewards of the Goddess</td>\n",
       "      <td>2009-07-18</td>\n",
       "      <td>46194.0</td>\n",
       "    </tr>\n",
       "    <tr>\n",
       "      <th>4</th>\n",
       "      <td>April Bride</td>\n",
       "      <td>2009-05-09</td>\n",
       "      <td>55749.0</td>\n",
       "    </tr>\n",
       "    <tr>\n",
       "      <th>...</th>\n",
       "      <td>...</td>\n",
       "      <td>...</td>\n",
       "      <td>...</td>\n",
       "    </tr>\n",
       "    <tr>\n",
       "      <th>164</th>\n",
       "      <td>Good Morning Everyone!</td>\n",
       "      <td>2012-12-15</td>\n",
       "      <td>350786.0</td>\n",
       "    </tr>\n",
       "    <tr>\n",
       "      <th>165</th>\n",
       "      <td>One Piece: Film Z</td>\n",
       "      <td>2012-12-15</td>\n",
       "      <td>176983.0</td>\n",
       "    </tr>\n",
       "    <tr>\n",
       "      <th>166</th>\n",
       "      <td>Yōkai Ningen Bem</td>\n",
       "      <td>2012-12-15</td>\n",
       "      <td>204086.0</td>\n",
       "    </tr>\n",
       "    <tr>\n",
       "      <th>167</th>\n",
       "      <td>Odayaka na Nichijo</td>\n",
       "      <td>2012-12-22</td>\n",
       "      <td>153789.0</td>\n",
       "    </tr>\n",
       "    <tr>\n",
       "      <th>168</th>\n",
       "      <td>Ōoku: Emonnosuke Tsunayoshi Hen</td>\n",
       "      <td>2012-12-22</td>\n",
       "      <td>NaN</td>\n",
       "    </tr>\n",
       "  </tbody>\n",
       "</table>\n",
       "<p>374 rows × 3 columns</p>\n",
       "</div>"
      ],
      "text/plain": [
       "                          English title   Released   TMDB_id\n",
       "0    20th Century Boys 2: The Last Hope 2009-01-31       NaN\n",
       "1       20th Century Boys 3: Redemption 2009-08-29       NaN\n",
       "2                              Air Doll 2009-05-14       NaN\n",
       "3        Amalfi: Rewards of the Goddess 2009-07-18   46194.0\n",
       "4                           April Bride 2009-05-09   55749.0\n",
       "..                                  ...        ...       ...\n",
       "164              Good Morning Everyone! 2012-12-15  350786.0\n",
       "165                   One Piece: Film Z 2012-12-15  176983.0\n",
       "166                    Yōkai Ningen Bem 2012-12-15  204086.0\n",
       "167                  Odayaka na Nichijo 2012-12-22  153789.0\n",
       "168     Ōoku: Emonnosuke Tsunayoshi Hen 2012-12-22       NaN\n",
       "\n",
       "[374 rows x 3 columns]"
      ]
     },
     "execution_count": 10,
     "metadata": {},
     "output_type": "execute_result"
    }
   ],
   "source": [
    "data_set"
   ]
  },
  {
   "cell_type": "code",
   "execution_count": 11,
   "metadata": {},
   "outputs": [
    {
     "data": {
      "text/html": [
       "<div>\n",
       "<style scoped>\n",
       "    .dataframe tbody tr th:only-of-type {\n",
       "        vertical-align: middle;\n",
       "    }\n",
       "\n",
       "    .dataframe tbody tr th {\n",
       "        vertical-align: top;\n",
       "    }\n",
       "\n",
       "    .dataframe thead th {\n",
       "        text-align: right;\n",
       "    }\n",
       "</style>\n",
       "<table border=\"1\" class=\"dataframe\">\n",
       "  <thead>\n",
       "    <tr style=\"text-align: right;\">\n",
       "      <th></th>\n",
       "      <th>English title</th>\n",
       "      <th>Released</th>\n",
       "      <th>TMDB_id</th>\n",
       "    </tr>\n",
       "  </thead>\n",
       "  <tbody>\n",
       "    <tr>\n",
       "      <th>3</th>\n",
       "      <td>Amalfi: Rewards of the Goddess</td>\n",
       "      <td>2009-07-18</td>\n",
       "      <td>46194.0</td>\n",
       "    </tr>\n",
       "    <tr>\n",
       "      <th>4</th>\n",
       "      <td>April Bride</td>\n",
       "      <td>2009-05-09</td>\n",
       "      <td>55749.0</td>\n",
       "    </tr>\n",
       "    <tr>\n",
       "      <th>5</th>\n",
       "      <td>Arceus Chōkoku no Jikū e</td>\n",
       "      <td>2009-07-18</td>\n",
       "      <td>39057.0</td>\n",
       "    </tr>\n",
       "    <tr>\n",
       "      <th>6</th>\n",
       "      <td>Asahiyama Zoo Story- Penguins in the Sky</td>\n",
       "      <td>2009-02-07</td>\n",
       "      <td>328093.0</td>\n",
       "    </tr>\n",
       "    <tr>\n",
       "      <th>8</th>\n",
       "      <td>Cho Kamen Rider Den-O &amp; Decade Neo Generations...</td>\n",
       "      <td>2009-05-01</td>\n",
       "      <td>178848.0</td>\n",
       "    </tr>\n",
       "    <tr>\n",
       "      <th>...</th>\n",
       "      <td>...</td>\n",
       "      <td>...</td>\n",
       "      <td>...</td>\n",
       "    </tr>\n",
       "    <tr>\n",
       "      <th>160</th>\n",
       "      <td>Sono Yoru no Samurai</td>\n",
       "      <td>2012-11-17</td>\n",
       "      <td>135799.0</td>\n",
       "    </tr>\n",
       "    <tr>\n",
       "      <th>164</th>\n",
       "      <td>Good Morning Everyone!</td>\n",
       "      <td>2012-12-15</td>\n",
       "      <td>350786.0</td>\n",
       "    </tr>\n",
       "    <tr>\n",
       "      <th>165</th>\n",
       "      <td>One Piece: Film Z</td>\n",
       "      <td>2012-12-15</td>\n",
       "      <td>176983.0</td>\n",
       "    </tr>\n",
       "    <tr>\n",
       "      <th>166</th>\n",
       "      <td>Yōkai Ningen Bem</td>\n",
       "      <td>2012-12-15</td>\n",
       "      <td>204086.0</td>\n",
       "    </tr>\n",
       "    <tr>\n",
       "      <th>167</th>\n",
       "      <td>Odayaka na Nichijo</td>\n",
       "      <td>2012-12-22</td>\n",
       "      <td>153789.0</td>\n",
       "    </tr>\n",
       "  </tbody>\n",
       "</table>\n",
       "<p>225 rows × 3 columns</p>\n",
       "</div>"
      ],
      "text/plain": [
       "                                         English title   Released   TMDB_id\n",
       "3                       Amalfi: Rewards of the Goddess 2009-07-18   46194.0\n",
       "4                                          April Bride 2009-05-09   55749.0\n",
       "5                             Arceus Chōkoku no Jikū e 2009-07-18   39057.0\n",
       "6             Asahiyama Zoo Story- Penguins in the Sky 2009-02-07  328093.0\n",
       "8    Cho Kamen Rider Den-O & Decade Neo Generations... 2009-05-01  178848.0\n",
       "..                                                 ...        ...       ...\n",
       "160                               Sono Yoru no Samurai 2012-11-17  135799.0\n",
       "164                             Good Morning Everyone! 2012-12-15  350786.0\n",
       "165                                  One Piece: Film Z 2012-12-15  176983.0\n",
       "166                                   Yōkai Ningen Bem 2012-12-15  204086.0\n",
       "167                                 Odayaka na Nichijo 2012-12-22  153789.0\n",
       "\n",
       "[225 rows x 3 columns]"
      ]
     },
     "execution_count": 11,
     "metadata": {},
     "output_type": "execute_result"
    }
   ],
   "source": [
    "check =  data_set.dropna(axis = 0)\n",
    "check"
   ]
  },
  {
   "cell_type": "code",
   "execution_count": 12,
   "metadata": {},
   "outputs": [
    {
     "name": "stderr",
     "output_type": "stream",
     "text": [
      "C:\\Users\\Asus\\AppData\\Local\\Temp\\ipykernel_18024\\3804415964.py:1: SettingWithCopyWarning: \n",
      "A value is trying to be set on a copy of a slice from a DataFrame.\n",
      "Try using .loc[row_indexer,col_indexer] = value instead\n",
      "\n",
      "See the caveats in the documentation: https://pandas.pydata.org/pandas-docs/stable/user_guide/indexing.html#returning-a-view-versus-a-copy\n",
      "  check['TMDB_id'] = check['TMDB_id'].astype(int)\n"
     ]
    }
   ],
   "source": [
    "check['TMDB_id'] = check['TMDB_id'].astype(int)"
   ]
  },
  {
   "cell_type": "code",
   "execution_count": 13,
   "metadata": {},
   "outputs": [
    {
     "data": {
      "text/html": [
       "<div>\n",
       "<style scoped>\n",
       "    .dataframe tbody tr th:only-of-type {\n",
       "        vertical-align: middle;\n",
       "    }\n",
       "\n",
       "    .dataframe tbody tr th {\n",
       "        vertical-align: top;\n",
       "    }\n",
       "\n",
       "    .dataframe thead th {\n",
       "        text-align: right;\n",
       "    }\n",
       "</style>\n",
       "<table border=\"1\" class=\"dataframe\">\n",
       "  <thead>\n",
       "    <tr style=\"text-align: right;\">\n",
       "      <th></th>\n",
       "      <th>English title</th>\n",
       "      <th>Released</th>\n",
       "      <th>TMDB_id</th>\n",
       "    </tr>\n",
       "  </thead>\n",
       "  <tbody>\n",
       "    <tr>\n",
       "      <th>3</th>\n",
       "      <td>Amalfi: Rewards of the Goddess</td>\n",
       "      <td>2009-07-18</td>\n",
       "      <td>46194</td>\n",
       "    </tr>\n",
       "    <tr>\n",
       "      <th>4</th>\n",
       "      <td>April Bride</td>\n",
       "      <td>2009-05-09</td>\n",
       "      <td>55749</td>\n",
       "    </tr>\n",
       "    <tr>\n",
       "      <th>5</th>\n",
       "      <td>Arceus Chōkoku no Jikū e</td>\n",
       "      <td>2009-07-18</td>\n",
       "      <td>39057</td>\n",
       "    </tr>\n",
       "    <tr>\n",
       "      <th>6</th>\n",
       "      <td>Asahiyama Zoo Story- Penguins in the Sky</td>\n",
       "      <td>2009-02-07</td>\n",
       "      <td>328093</td>\n",
       "    </tr>\n",
       "    <tr>\n",
       "      <th>8</th>\n",
       "      <td>Cho Kamen Rider Den-O &amp; Decade Neo Generations...</td>\n",
       "      <td>2009-05-01</td>\n",
       "      <td>178848</td>\n",
       "    </tr>\n",
       "  </tbody>\n",
       "</table>\n",
       "</div>"
      ],
      "text/plain": [
       "                                       English title   Released  TMDB_id\n",
       "3                     Amalfi: Rewards of the Goddess 2009-07-18    46194\n",
       "4                                        April Bride 2009-05-09    55749\n",
       "5                           Arceus Chōkoku no Jikū e 2009-07-18    39057\n",
       "6           Asahiyama Zoo Story- Penguins in the Sky 2009-02-07   328093\n",
       "8  Cho Kamen Rider Den-O & Decade Neo Generations... 2009-05-01   178848"
      ]
     },
     "execution_count": 13,
     "metadata": {},
     "output_type": "execute_result"
    }
   ],
   "source": [
    "check.head()"
   ]
  },
  {
   "cell_type": "code",
   "execution_count": 14,
   "metadata": {},
   "outputs": [],
   "source": [
    "check.reset_index(inplace=True)"
   ]
  },
  {
   "cell_type": "code",
   "execution_count": null,
   "metadata": {},
   "outputs": [],
   "source": [
    "check.to_csv('raw_jan_09_12.csv')"
   ]
  }
 ],
 "metadata": {
  "kernelspec": {
   "display_name": "Python 3",
   "language": "python",
   "name": "python3"
  },
  "language_info": {
   "codemirror_mode": {
    "name": "ipython",
    "version": 3
   },
   "file_extension": ".py",
   "mimetype": "text/x-python",
   "name": "python",
   "nbconvert_exporter": "python",
   "pygments_lexer": "ipython3",
   "version": "3.11.4"
  }
 },
 "nbformat": 4,
 "nbformat_minor": 2
}
