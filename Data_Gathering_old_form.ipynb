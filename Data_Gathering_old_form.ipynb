{
 "cells": [
  {
   "cell_type": "markdown",
   "metadata": {},
   "source": [
    "# Import needed library"
   ]
  },
  {
   "cell_type": "code",
   "execution_count": 55,
   "metadata": {},
   "outputs": [],
   "source": [
    "import pandas as pd \n",
    "import numpy as np \n",
    "import tmdbv3api as tmdb "
   ]
  },
  {
   "cell_type": "markdown",
   "metadata": {},
   "source": [
    "# Data Gathering\n",
    "- Dữ liệu thu thập tới từ list film của Anh, Mỹ, Nhật, Hàn, Trung quốc, Việt Nam, Nga, Pháp, Đức\n",
    "- Tên phim theo các năm được lấy từ wikipedia, dữ liệu từ APi tmdb\n",
    "- Thời gian từ 2020s - 1990s "
   ]
  },
  {
   "cell_type": "code",
   "execution_count": 56,
   "metadata": {},
   "outputs": [],
   "source": [
    "from tmdbv3api import TMDb, Movie, Search\n",
    "from os import getenv\n",
    "tmdb = TMDb()\n",
    "\n",
    "tmdb.api_key = getenv('TMDB_API_KEY')\n",
    "search = Search()"
   ]
  },
  {
   "cell_type": "markdown",
   "metadata": {},
   "source": [
    "## Korean "
   ]
  },
  {
   "cell_type": "markdown",
   "metadata": {},
   "source": [
    "- Dữ liệu dạng bảng từ 2007 - 2019 \n",
    "- Dữ liệu từ 2007 - 2008: Cột en-title trùng với kor-title "
   ]
  },
  {
   "cell_type": "code",
   "execution_count": 57,
   "metadata": {},
   "outputs": [],
   "source": [
    "from typing import List\n",
    "pre_link = 'https://en.wikipedia.org/wiki/List_of_South_Korean_films_of_'\n",
    "\n",
    "\n",
    "\n",
    "def title_handle(lst: List): \n",
    "    res = ''\n",
    "    for i in lst[:-1]: \n",
    "        res += i  + ' '\n",
    "\n",
    "    return res\n",
    "\"\"\"\n",
    "- Hàm lấy dữ liệu film từ wiki : \n",
    "- Hàm trả về en-title + năm của phim \n",
    "- Đầu vào là năm  \n",
    "\"\"\"\n",
    "\n",
    "def get_films_on_wiki(year: int): \n",
    "    link = pre_link + str(year)\n",
    "\n",
    "    page_tables = pd.read_html(link, header= None)\n",
    "\n",
    "    sub_df = page_tables[2]\n",
    "    \n",
    "    # xử lý title của film\n",
    "    if year == 2007 or year == 2008: \n",
    "        sub_df['English titles'] = sub_df['English/Korean Title'].str.split(r'([a-zA-Z]+)')\n",
    "        sub_df['English title'] = sub_df['English titles'].apply(lambda x: title_handle(x))\n",
    "\n",
    "    res = sub_df[['English title', 'Released']].copy()\n",
    "    res.dropna(inplace=True)\n",
    "    return res\n",
    "\n",
    "\n",
    "    "
   ]
  },
  {
   "cell_type": "code",
   "execution_count": 62,
   "metadata": {},
   "outputs": [],
   "source": [
    "dct = {\n",
    "    'january' : 1, \n",
    "    'february' : 2,\n",
    "    'march' : 3, \n",
    "    'april' :  4,\n",
    "    'may' : 5, \n",
    "    'june' : 6, \n",
    "    'july' : 7, \n",
    "    'august' : 8, \n",
    "    'september' : 9, \n",
    "    'october' : 10, \n",
    "    'november' : 11, \n",
    "    'december' : 12\n",
    "}\n",
    "# thay đổi year \n",
    "def change_year_type(x,  year: int): \n",
    "    num_month = dct[x[1]]\n",
    "    return str(year)  + '-' + str(num_month) + '-' + x[0]\n",
    "\n",
    "# thay đổi cột released trong bảng \n",
    "def change_release_year(df: pd.DataFrame, year: int): \n",
    "    df['Released'] = df['Released'].str.lower()\n",
    "\n",
    "    if year < 2017:  df[['Day', 'Month', 'Ex']] = df['Released'].str.extract(r'(\\d+)\\s+(\\w+)(\\[.*\\])*')\n",
    "    else : \n",
    "        df[['Month', 'Day', 'Ex']] = df['Released'].str.extract(r'(\\w+)\\s+(\\d+)(\\[.*\\])*')\n",
    "\n",
    "    df['Day'] = df['Day'].astype('str')\n",
    "    df['Released'] = df[['Day', 'Month']].apply(lambda x: change_year_type(x, year), axis = 1)\n",
    "    df['Released'] = pd.to_datetime(df['Released'])\n",
    "    df.drop(['Day', 'Month', 'Ex'], axis = 1, inplace = True)\n",
    "    \n",
    "    return df\n",
    "\n",
    "# thêm thuộc tính id vào trong table \n",
    "def get_tmdb_id(title: str, release_date): \n",
    "    t  = release_date.year\n",
    "    movie = search.movies(title, release_year=t)\n",
    "\n",
    "    for j in movie['results']: \n",
    "        if j['release_date'] == release_date.strftime('%Y-%m-%d'): \n",
    "            return j['id']\n",
    "        \n",
    "    return None\n",
    "\n"
   ]
  },
  {
   "cell_type": "code",
   "execution_count": 70,
   "metadata": {},
   "outputs": [
    {
     "name": "stdout",
     "output_type": "stream",
     "text": [
      "Processing year 2007\n"
     ]
    },
    {
     "name": "stderr",
     "output_type": "stream",
     "text": [
      "C:\\Users\\Asus\\AppData\\Local\\Temp\\ipykernel_43704\\4248798790.py:17: FutureWarning: Series.__getitem__ treating keys as positions is deprecated. In a future version, integer keys will always be treated as labels (consistent with DataFrame behavior). To access a value by position, use `ser.iloc[pos]`\n",
      "  num_month = dct[x[1]]\n",
      "C:\\Users\\Asus\\AppData\\Local\\Temp\\ipykernel_43704\\4248798790.py:18: FutureWarning: Series.__getitem__ treating keys as positions is deprecated. In a future version, integer keys will always be treated as labels (consistent with DataFrame behavior). To access a value by position, use `ser.iloc[pos]`\n",
      "  return str(year)  + '-' + str(num_month) + '-' + x[0]\n",
      "C:\\Users\\Asus\\AppData\\Local\\Temp\\ipykernel_43704\\2617696398.py:8: FutureWarning: Series.__getitem__ treating keys as positions is deprecated. In a future version, integer keys will always be treated as labels (consistent with DataFrame behavior). To access a value by position, use `ser.iloc[pos]`\n",
      "  data_clean['TMDB_id'] = data_clean[['English title', 'Released']].apply(lambda x: get_tmdb_id(x[0],  x[1]), axis = 1)\n",
      "C:\\Users\\Asus\\AppData\\Local\\Temp\\ipykernel_43704\\2617696398.py:9: FutureWarning: The behavior of DataFrame concatenation with empty or all-NA entries is deprecated. In a future version, this will no longer exclude empty or all-NA columns when determining the result dtypes. To retain the old behavior, exclude the relevant entries before the concat operation.\n",
      "  data_set = pd.concat([data_set, data_clean])\n"
     ]
    },
    {
     "name": "stdout",
     "output_type": "stream",
     "text": [
      "Processing year 2008\n"
     ]
    },
    {
     "name": "stderr",
     "output_type": "stream",
     "text": [
      "C:\\Users\\Asus\\AppData\\Local\\Temp\\ipykernel_43704\\4248798790.py:17: FutureWarning: Series.__getitem__ treating keys as positions is deprecated. In a future version, integer keys will always be treated as labels (consistent with DataFrame behavior). To access a value by position, use `ser.iloc[pos]`\n",
      "  num_month = dct[x[1]]\n",
      "C:\\Users\\Asus\\AppData\\Local\\Temp\\ipykernel_43704\\4248798790.py:18: FutureWarning: Series.__getitem__ treating keys as positions is deprecated. In a future version, integer keys will always be treated as labels (consistent with DataFrame behavior). To access a value by position, use `ser.iloc[pos]`\n",
      "  return str(year)  + '-' + str(num_month) + '-' + x[0]\n",
      "C:\\Users\\Asus\\AppData\\Local\\Temp\\ipykernel_43704\\2617696398.py:8: FutureWarning: Series.__getitem__ treating keys as positions is deprecated. In a future version, integer keys will always be treated as labels (consistent with DataFrame behavior). To access a value by position, use `ser.iloc[pos]`\n",
      "  data_clean['TMDB_id'] = data_clean[['English title', 'Released']].apply(lambda x: get_tmdb_id(x[0],  x[1]), axis = 1)\n"
     ]
    },
    {
     "name": "stdout",
     "output_type": "stream",
     "text": [
      "Processing year 2009\n"
     ]
    },
    {
     "name": "stderr",
     "output_type": "stream",
     "text": [
      "C:\\Users\\Asus\\AppData\\Local\\Temp\\ipykernel_43704\\4248798790.py:17: FutureWarning: Series.__getitem__ treating keys as positions is deprecated. In a future version, integer keys will always be treated as labels (consistent with DataFrame behavior). To access a value by position, use `ser.iloc[pos]`\n",
      "  num_month = dct[x[1]]\n",
      "C:\\Users\\Asus\\AppData\\Local\\Temp\\ipykernel_43704\\4248798790.py:18: FutureWarning: Series.__getitem__ treating keys as positions is deprecated. In a future version, integer keys will always be treated as labels (consistent with DataFrame behavior). To access a value by position, use `ser.iloc[pos]`\n",
      "  return str(year)  + '-' + str(num_month) + '-' + x[0]\n",
      "C:\\Users\\Asus\\AppData\\Local\\Temp\\ipykernel_43704\\2617696398.py:8: FutureWarning: Series.__getitem__ treating keys as positions is deprecated. In a future version, integer keys will always be treated as labels (consistent with DataFrame behavior). To access a value by position, use `ser.iloc[pos]`\n",
      "  data_clean['TMDB_id'] = data_clean[['English title', 'Released']].apply(lambda x: get_tmdb_id(x[0],  x[1]), axis = 1)\n"
     ]
    },
    {
     "name": "stdout",
     "output_type": "stream",
     "text": [
      "Processing year 2010\n"
     ]
    },
    {
     "name": "stderr",
     "output_type": "stream",
     "text": [
      "C:\\Users\\Asus\\AppData\\Local\\Temp\\ipykernel_43704\\4248798790.py:17: FutureWarning: Series.__getitem__ treating keys as positions is deprecated. In a future version, integer keys will always be treated as labels (consistent with DataFrame behavior). To access a value by position, use `ser.iloc[pos]`\n",
      "  num_month = dct[x[1]]\n",
      "C:\\Users\\Asus\\AppData\\Local\\Temp\\ipykernel_43704\\4248798790.py:18: FutureWarning: Series.__getitem__ treating keys as positions is deprecated. In a future version, integer keys will always be treated as labels (consistent with DataFrame behavior). To access a value by position, use `ser.iloc[pos]`\n",
      "  return str(year)  + '-' + str(num_month) + '-' + x[0]\n",
      "C:\\Users\\Asus\\AppData\\Local\\Temp\\ipykernel_43704\\2617696398.py:8: FutureWarning: Series.__getitem__ treating keys as positions is deprecated. In a future version, integer keys will always be treated as labels (consistent with DataFrame behavior). To access a value by position, use `ser.iloc[pos]`\n",
      "  data_clean['TMDB_id'] = data_clean[['English title', 'Released']].apply(lambda x: get_tmdb_id(x[0],  x[1]), axis = 1)\n"
     ]
    },
    {
     "name": "stdout",
     "output_type": "stream",
     "text": [
      "Processing year 2011\n"
     ]
    },
    {
     "name": "stderr",
     "output_type": "stream",
     "text": [
      "C:\\Users\\Asus\\AppData\\Local\\Temp\\ipykernel_43704\\4248798790.py:17: FutureWarning: Series.__getitem__ treating keys as positions is deprecated. In a future version, integer keys will always be treated as labels (consistent with DataFrame behavior). To access a value by position, use `ser.iloc[pos]`\n",
      "  num_month = dct[x[1]]\n",
      "C:\\Users\\Asus\\AppData\\Local\\Temp\\ipykernel_43704\\4248798790.py:18: FutureWarning: Series.__getitem__ treating keys as positions is deprecated. In a future version, integer keys will always be treated as labels (consistent with DataFrame behavior). To access a value by position, use `ser.iloc[pos]`\n",
      "  return str(year)  + '-' + str(num_month) + '-' + x[0]\n",
      "C:\\Users\\Asus\\AppData\\Local\\Temp\\ipykernel_43704\\2617696398.py:8: FutureWarning: Series.__getitem__ treating keys as positions is deprecated. In a future version, integer keys will always be treated as labels (consistent with DataFrame behavior). To access a value by position, use `ser.iloc[pos]`\n",
      "  data_clean['TMDB_id'] = data_clean[['English title', 'Released']].apply(lambda x: get_tmdb_id(x[0],  x[1]), axis = 1)\n"
     ]
    },
    {
     "name": "stdout",
     "output_type": "stream",
     "text": [
      "Processing year 2012\n"
     ]
    },
    {
     "name": "stderr",
     "output_type": "stream",
     "text": [
      "C:\\Users\\Asus\\AppData\\Local\\Temp\\ipykernel_43704\\4248798790.py:17: FutureWarning: Series.__getitem__ treating keys as positions is deprecated. In a future version, integer keys will always be treated as labels (consistent with DataFrame behavior). To access a value by position, use `ser.iloc[pos]`\n",
      "  num_month = dct[x[1]]\n",
      "C:\\Users\\Asus\\AppData\\Local\\Temp\\ipykernel_43704\\4248798790.py:18: FutureWarning: Series.__getitem__ treating keys as positions is deprecated. In a future version, integer keys will always be treated as labels (consistent with DataFrame behavior). To access a value by position, use `ser.iloc[pos]`\n",
      "  return str(year)  + '-' + str(num_month) + '-' + x[0]\n",
      "C:\\Users\\Asus\\AppData\\Local\\Temp\\ipykernel_43704\\2617696398.py:8: FutureWarning: Series.__getitem__ treating keys as positions is deprecated. In a future version, integer keys will always be treated as labels (consistent with DataFrame behavior). To access a value by position, use `ser.iloc[pos]`\n",
      "  data_clean['TMDB_id'] = data_clean[['English title', 'Released']].apply(lambda x: get_tmdb_id(x[0],  x[1]), axis = 1)\n"
     ]
    },
    {
     "name": "stdout",
     "output_type": "stream",
     "text": [
      "Processing year 2013\n"
     ]
    },
    {
     "name": "stderr",
     "output_type": "stream",
     "text": [
      "C:\\Users\\Asus\\AppData\\Local\\Temp\\ipykernel_43704\\4248798790.py:17: FutureWarning: Series.__getitem__ treating keys as positions is deprecated. In a future version, integer keys will always be treated as labels (consistent with DataFrame behavior). To access a value by position, use `ser.iloc[pos]`\n",
      "  num_month = dct[x[1]]\n",
      "C:\\Users\\Asus\\AppData\\Local\\Temp\\ipykernel_43704\\4248798790.py:18: FutureWarning: Series.__getitem__ treating keys as positions is deprecated. In a future version, integer keys will always be treated as labels (consistent with DataFrame behavior). To access a value by position, use `ser.iloc[pos]`\n",
      "  return str(year)  + '-' + str(num_month) + '-' + x[0]\n",
      "C:\\Users\\Asus\\AppData\\Local\\Temp\\ipykernel_43704\\2617696398.py:8: FutureWarning: Series.__getitem__ treating keys as positions is deprecated. In a future version, integer keys will always be treated as labels (consistent with DataFrame behavior). To access a value by position, use `ser.iloc[pos]`\n",
      "  data_clean['TMDB_id'] = data_clean[['English title', 'Released']].apply(lambda x: get_tmdb_id(x[0],  x[1]), axis = 1)\n"
     ]
    },
    {
     "name": "stdout",
     "output_type": "stream",
     "text": [
      "Processing year 2014\n"
     ]
    },
    {
     "name": "stderr",
     "output_type": "stream",
     "text": [
      "C:\\Users\\Asus\\AppData\\Local\\Temp\\ipykernel_43704\\4248798790.py:17: FutureWarning: Series.__getitem__ treating keys as positions is deprecated. In a future version, integer keys will always be treated as labels (consistent with DataFrame behavior). To access a value by position, use `ser.iloc[pos]`\n",
      "  num_month = dct[x[1]]\n",
      "C:\\Users\\Asus\\AppData\\Local\\Temp\\ipykernel_43704\\4248798790.py:18: FutureWarning: Series.__getitem__ treating keys as positions is deprecated. In a future version, integer keys will always be treated as labels (consistent with DataFrame behavior). To access a value by position, use `ser.iloc[pos]`\n",
      "  return str(year)  + '-' + str(num_month) + '-' + x[0]\n",
      "C:\\Users\\Asus\\AppData\\Local\\Temp\\ipykernel_43704\\2617696398.py:8: FutureWarning: Series.__getitem__ treating keys as positions is deprecated. In a future version, integer keys will always be treated as labels (consistent with DataFrame behavior). To access a value by position, use `ser.iloc[pos]`\n",
      "  data_clean['TMDB_id'] = data_clean[['English title', 'Released']].apply(lambda x: get_tmdb_id(x[0],  x[1]), axis = 1)\n"
     ]
    },
    {
     "name": "stdout",
     "output_type": "stream",
     "text": [
      "Processing year 2015\n"
     ]
    },
    {
     "name": "stderr",
     "output_type": "stream",
     "text": [
      "C:\\Users\\Asus\\AppData\\Local\\Temp\\ipykernel_43704\\4248798790.py:17: FutureWarning: Series.__getitem__ treating keys as positions is deprecated. In a future version, integer keys will always be treated as labels (consistent with DataFrame behavior). To access a value by position, use `ser.iloc[pos]`\n",
      "  num_month = dct[x[1]]\n",
      "C:\\Users\\Asus\\AppData\\Local\\Temp\\ipykernel_43704\\4248798790.py:18: FutureWarning: Series.__getitem__ treating keys as positions is deprecated. In a future version, integer keys will always be treated as labels (consistent with DataFrame behavior). To access a value by position, use `ser.iloc[pos]`\n",
      "  return str(year)  + '-' + str(num_month) + '-' + x[0]\n",
      "C:\\Users\\Asus\\AppData\\Local\\Temp\\ipykernel_43704\\2617696398.py:8: FutureWarning: Series.__getitem__ treating keys as positions is deprecated. In a future version, integer keys will always be treated as labels (consistent with DataFrame behavior). To access a value by position, use `ser.iloc[pos]`\n",
      "  data_clean['TMDB_id'] = data_clean[['English title', 'Released']].apply(lambda x: get_tmdb_id(x[0],  x[1]), axis = 1)\n"
     ]
    },
    {
     "name": "stdout",
     "output_type": "stream",
     "text": [
      "Processing year 2016\n"
     ]
    },
    {
     "name": "stderr",
     "output_type": "stream",
     "text": [
      "C:\\Users\\Asus\\AppData\\Local\\Temp\\ipykernel_43704\\4248798790.py:17: FutureWarning: Series.__getitem__ treating keys as positions is deprecated. In a future version, integer keys will always be treated as labels (consistent with DataFrame behavior). To access a value by position, use `ser.iloc[pos]`\n",
      "  num_month = dct[x[1]]\n",
      "C:\\Users\\Asus\\AppData\\Local\\Temp\\ipykernel_43704\\4248798790.py:18: FutureWarning: Series.__getitem__ treating keys as positions is deprecated. In a future version, integer keys will always be treated as labels (consistent with DataFrame behavior). To access a value by position, use `ser.iloc[pos]`\n",
      "  return str(year)  + '-' + str(num_month) + '-' + x[0]\n",
      "C:\\Users\\Asus\\AppData\\Local\\Temp\\ipykernel_43704\\2617696398.py:8: FutureWarning: Series.__getitem__ treating keys as positions is deprecated. In a future version, integer keys will always be treated as labels (consistent with DataFrame behavior). To access a value by position, use `ser.iloc[pos]`\n",
      "  data_clean['TMDB_id'] = data_clean[['English title', 'Released']].apply(lambda x: get_tmdb_id(x[0],  x[1]), axis = 1)\n"
     ]
    },
    {
     "name": "stdout",
     "output_type": "stream",
     "text": [
      "Processing year 2017\n"
     ]
    },
    {
     "name": "stderr",
     "output_type": "stream",
     "text": [
      "C:\\Users\\Asus\\AppData\\Local\\Temp\\ipykernel_43704\\4248798790.py:17: FutureWarning: Series.__getitem__ treating keys as positions is deprecated. In a future version, integer keys will always be treated as labels (consistent with DataFrame behavior). To access a value by position, use `ser.iloc[pos]`\n",
      "  num_month = dct[x[1]]\n",
      "C:\\Users\\Asus\\AppData\\Local\\Temp\\ipykernel_43704\\4248798790.py:18: FutureWarning: Series.__getitem__ treating keys as positions is deprecated. In a future version, integer keys will always be treated as labels (consistent with DataFrame behavior). To access a value by position, use `ser.iloc[pos]`\n",
      "  return str(year)  + '-' + str(num_month) + '-' + x[0]\n",
      "C:\\Users\\Asus\\AppData\\Local\\Temp\\ipykernel_43704\\2617696398.py:8: FutureWarning: Series.__getitem__ treating keys as positions is deprecated. In a future version, integer keys will always be treated as labels (consistent with DataFrame behavior). To access a value by position, use `ser.iloc[pos]`\n",
      "  data_clean['TMDB_id'] = data_clean[['English title', 'Released']].apply(lambda x: get_tmdb_id(x[0],  x[1]), axis = 1)\n"
     ]
    },
    {
     "name": "stdout",
     "output_type": "stream",
     "text": [
      "Processing year 2018\n"
     ]
    },
    {
     "name": "stderr",
     "output_type": "stream",
     "text": [
      "C:\\Users\\Asus\\AppData\\Local\\Temp\\ipykernel_43704\\4248798790.py:17: FutureWarning: Series.__getitem__ treating keys as positions is deprecated. In a future version, integer keys will always be treated as labels (consistent with DataFrame behavior). To access a value by position, use `ser.iloc[pos]`\n",
      "  num_month = dct[x[1]]\n",
      "C:\\Users\\Asus\\AppData\\Local\\Temp\\ipykernel_43704\\4248798790.py:18: FutureWarning: Series.__getitem__ treating keys as positions is deprecated. In a future version, integer keys will always be treated as labels (consistent with DataFrame behavior). To access a value by position, use `ser.iloc[pos]`\n",
      "  return str(year)  + '-' + str(num_month) + '-' + x[0]\n",
      "C:\\Users\\Asus\\AppData\\Local\\Temp\\ipykernel_43704\\2617696398.py:8: FutureWarning: Series.__getitem__ treating keys as positions is deprecated. In a future version, integer keys will always be treated as labels (consistent with DataFrame behavior). To access a value by position, use `ser.iloc[pos]`\n",
      "  data_clean['TMDB_id'] = data_clean[['English title', 'Released']].apply(lambda x: get_tmdb_id(x[0],  x[1]), axis = 1)\n"
     ]
    },
    {
     "name": "stdout",
     "output_type": "stream",
     "text": [
      "Processing year 2019\n"
     ]
    },
    {
     "name": "stderr",
     "output_type": "stream",
     "text": [
      "C:\\Users\\Asus\\AppData\\Local\\Temp\\ipykernel_43704\\4248798790.py:17: FutureWarning: Series.__getitem__ treating keys as positions is deprecated. In a future version, integer keys will always be treated as labels (consistent with DataFrame behavior). To access a value by position, use `ser.iloc[pos]`\n",
      "  num_month = dct[x[1]]\n",
      "C:\\Users\\Asus\\AppData\\Local\\Temp\\ipykernel_43704\\4248798790.py:18: FutureWarning: Series.__getitem__ treating keys as positions is deprecated. In a future version, integer keys will always be treated as labels (consistent with DataFrame behavior). To access a value by position, use `ser.iloc[pos]`\n",
      "  return str(year)  + '-' + str(num_month) + '-' + x[0]\n",
      "C:\\Users\\Asus\\AppData\\Local\\Temp\\ipykernel_43704\\2617696398.py:8: FutureWarning: Series.__getitem__ treating keys as positions is deprecated. In a future version, integer keys will always be treated as labels (consistent with DataFrame behavior). To access a value by position, use `ser.iloc[pos]`\n",
      "  data_clean['TMDB_id'] = data_clean[['English title', 'Released']].apply(lambda x: get_tmdb_id(x[0],  x[1]), axis = 1)\n"
     ]
    },
    {
     "data": {
      "text/html": [
       "<div>\n",
       "<style scoped>\n",
       "    .dataframe tbody tr th:only-of-type {\n",
       "        vertical-align: middle;\n",
       "    }\n",
       "\n",
       "    .dataframe tbody tr th {\n",
       "        vertical-align: top;\n",
       "    }\n",
       "\n",
       "    .dataframe thead th {\n",
       "        text-align: right;\n",
       "    }\n",
       "</style>\n",
       "<table border=\"1\" class=\"dataframe\">\n",
       "  <thead>\n",
       "    <tr style=\"text-align: right;\">\n",
       "      <th></th>\n",
       "      <th>English title</th>\n",
       "      <th>Released</th>\n",
       "      <th>TMDB_id</th>\n",
       "    </tr>\n",
       "  </thead>\n",
       "  <tbody>\n",
       "    <tr>\n",
       "      <th>0</th>\n",
       "      <td>Attack   on   the   Pin - Up   Boys</td>\n",
       "      <td>2007-07-26</td>\n",
       "      <td>75100.0</td>\n",
       "    </tr>\n",
       "    <tr>\n",
       "      <th>1</th>\n",
       "      <td>The   Bank   Attack</td>\n",
       "      <td>2007-11-14</td>\n",
       "      <td>482571.0</td>\n",
       "    </tr>\n",
       "    <tr>\n",
       "      <th>2</th>\n",
       "      <td>A   Battle   of   Wits</td>\n",
       "      <td>2007-01-10</td>\n",
       "      <td>NaN</td>\n",
       "    </tr>\n",
       "    <tr>\n",
       "      <th>3</th>\n",
       "      <td>Beautiful   Sunday</td>\n",
       "      <td>2007-03-29</td>\n",
       "      <td>55753.0</td>\n",
       "    </tr>\n",
       "    <tr>\n",
       "      <th>4</th>\n",
       "      <td>Before   the   Summer   Passes   Away</td>\n",
       "      <td>2007-01-25</td>\n",
       "      <td>467278.0</td>\n",
       "    </tr>\n",
       "  </tbody>\n",
       "</table>\n",
       "</div>"
      ],
      "text/plain": [
       "                             English title   Released   TMDB_id\n",
       "0     Attack   on   the   Pin - Up   Boys  2007-07-26   75100.0\n",
       "1                     The   Bank   Attack  2007-11-14  482571.0\n",
       "2                  A   Battle   of   Wits  2007-01-10       NaN\n",
       "3                      Beautiful   Sunday  2007-03-29   55753.0\n",
       "4   Before   the   Summer   Passes   Away  2007-01-25  467278.0"
      ]
     },
     "execution_count": 70,
     "metadata": {},
     "output_type": "execute_result"
    }
   ],
   "source": [
    "data_set = pd.DataFrame(columns=['English title', 'Released', 'TMDB_id'])\n",
    "\n",
    "\n",
    "for i in range(2007, 2020): \n",
    "    print(f\"Processing year {i}\")\n",
    "    raw_data = get_films_on_wiki(i)\n",
    "    data_clean = change_release_year(raw_data, i)\n",
    "    data_clean['TMDB_id'] = data_clean[['English title', 'Released']].apply(lambda x: get_tmdb_id(x[0],  x[1]), axis = 1) \n",
    "    data_set = pd.concat([data_set, data_clean])\n",
    "\n",
    "data_set.head()\n"
   ]
  },
  {
   "cell_type": "code",
   "execution_count": 72,
   "metadata": {},
   "outputs": [
    {
     "data": {
      "text/html": [
       "<div>\n",
       "<style scoped>\n",
       "    .dataframe tbody tr th:only-of-type {\n",
       "        vertical-align: middle;\n",
       "    }\n",
       "\n",
       "    .dataframe tbody tr th {\n",
       "        vertical-align: top;\n",
       "    }\n",
       "\n",
       "    .dataframe thead th {\n",
       "        text-align: right;\n",
       "    }\n",
       "</style>\n",
       "<table border=\"1\" class=\"dataframe\">\n",
       "  <thead>\n",
       "    <tr style=\"text-align: right;\">\n",
       "      <th></th>\n",
       "      <th>English title</th>\n",
       "      <th>Released</th>\n",
       "      <th>TMDB_id</th>\n",
       "    </tr>\n",
       "  </thead>\n",
       "  <tbody>\n",
       "    <tr>\n",
       "      <th>0</th>\n",
       "      <td>Attack   on   the   Pin - Up   Boys</td>\n",
       "      <td>2007-07-26</td>\n",
       "      <td>75100.0</td>\n",
       "    </tr>\n",
       "    <tr>\n",
       "      <th>1</th>\n",
       "      <td>The   Bank   Attack</td>\n",
       "      <td>2007-11-14</td>\n",
       "      <td>482571.0</td>\n",
       "    </tr>\n",
       "    <tr>\n",
       "      <th>2</th>\n",
       "      <td>A   Battle   of   Wits</td>\n",
       "      <td>2007-01-10</td>\n",
       "      <td>NaN</td>\n",
       "    </tr>\n",
       "    <tr>\n",
       "      <th>3</th>\n",
       "      <td>Beautiful   Sunday</td>\n",
       "      <td>2007-03-29</td>\n",
       "      <td>55753.0</td>\n",
       "    </tr>\n",
       "    <tr>\n",
       "      <th>4</th>\n",
       "      <td>Before   the   Summer   Passes   Away</td>\n",
       "      <td>2007-01-25</td>\n",
       "      <td>467278.0</td>\n",
       "    </tr>\n",
       "    <tr>\n",
       "      <th>...</th>\n",
       "      <td>...</td>\n",
       "      <td>...</td>\n",
       "      <td>...</td>\n",
       "    </tr>\n",
       "    <tr>\n",
       "      <th>63</th>\n",
       "      <td>Bring Me Home</td>\n",
       "      <td>2019-11-27</td>\n",
       "      <td>507773.0</td>\n",
       "    </tr>\n",
       "    <tr>\n",
       "      <th>64</th>\n",
       "      <td>Start-Up</td>\n",
       "      <td>2019-12-18</td>\n",
       "      <td>581530.0</td>\n",
       "    </tr>\n",
       "    <tr>\n",
       "      <th>65</th>\n",
       "      <td>Ashfall</td>\n",
       "      <td>2019-12-19</td>\n",
       "      <td>581387.0</td>\n",
       "    </tr>\n",
       "    <tr>\n",
       "      <th>66</th>\n",
       "      <td>The Haunted House: The Sky Goblin VS Jormungandr</td>\n",
       "      <td>2019-12-19</td>\n",
       "      <td>654747.0</td>\n",
       "    </tr>\n",
       "    <tr>\n",
       "      <th>67</th>\n",
       "      <td>Forbidden Dream</td>\n",
       "      <td>2019-12-26</td>\n",
       "      <td>569267.0</td>\n",
       "    </tr>\n",
       "  </tbody>\n",
       "</table>\n",
       "<p>1507 rows × 3 columns</p>\n",
       "</div>"
      ],
      "text/plain": [
       "                                       English title   Released   TMDB_id\n",
       "0               Attack   on   the   Pin - Up   Boys  2007-07-26   75100.0\n",
       "1                               The   Bank   Attack  2007-11-14  482571.0\n",
       "2                            A   Battle   of   Wits  2007-01-10       NaN\n",
       "3                                Beautiful   Sunday  2007-03-29   55753.0\n",
       "4             Before   the   Summer   Passes   Away  2007-01-25  467278.0\n",
       "..                                               ...        ...       ...\n",
       "63                                     Bring Me Home 2019-11-27  507773.0\n",
       "64                                          Start-Up 2019-12-18  581530.0\n",
       "65                                           Ashfall 2019-12-19  581387.0\n",
       "66  The Haunted House: The Sky Goblin VS Jormungandr 2019-12-19  654747.0\n",
       "67                                   Forbidden Dream 2019-12-26  569267.0\n",
       "\n",
       "[1507 rows x 3 columns]"
      ]
     },
     "execution_count": 72,
     "metadata": {},
     "output_type": "execute_result"
    }
   ],
   "source": [
    "data_set"
   ]
  },
  {
   "cell_type": "code",
   "execution_count": 71,
   "metadata": {},
   "outputs": [
    {
     "data": {
      "text/html": [
       "<div>\n",
       "<style scoped>\n",
       "    .dataframe tbody tr th:only-of-type {\n",
       "        vertical-align: middle;\n",
       "    }\n",
       "\n",
       "    .dataframe tbody tr th {\n",
       "        vertical-align: top;\n",
       "    }\n",
       "\n",
       "    .dataframe thead th {\n",
       "        text-align: right;\n",
       "    }\n",
       "</style>\n",
       "<table border=\"1\" class=\"dataframe\">\n",
       "  <thead>\n",
       "    <tr style=\"text-align: right;\">\n",
       "      <th></th>\n",
       "      <th>English title</th>\n",
       "      <th>Released</th>\n",
       "      <th>TMDB_id</th>\n",
       "    </tr>\n",
       "  </thead>\n",
       "  <tbody>\n",
       "    <tr>\n",
       "      <th>0</th>\n",
       "      <td>Attack   on   the   Pin - Up   Boys</td>\n",
       "      <td>2007-07-26</td>\n",
       "      <td>75100.0</td>\n",
       "    </tr>\n",
       "    <tr>\n",
       "      <th>1</th>\n",
       "      <td>The   Bank   Attack</td>\n",
       "      <td>2007-11-14</td>\n",
       "      <td>482571.0</td>\n",
       "    </tr>\n",
       "    <tr>\n",
       "      <th>3</th>\n",
       "      <td>Beautiful   Sunday</td>\n",
       "      <td>2007-03-29</td>\n",
       "      <td>55753.0</td>\n",
       "    </tr>\n",
       "    <tr>\n",
       "      <th>4</th>\n",
       "      <td>Before   the   Summer   Passes   Away</td>\n",
       "      <td>2007-01-25</td>\n",
       "      <td>467278.0</td>\n",
       "    </tr>\n",
       "    <tr>\n",
       "      <th>5</th>\n",
       "      <td>Beyond   the   Years</td>\n",
       "      <td>2007-04-12</td>\n",
       "      <td>155049.0</td>\n",
       "    </tr>\n",
       "    <tr>\n",
       "      <th>...</th>\n",
       "      <td>...</td>\n",
       "      <td>...</td>\n",
       "      <td>...</td>\n",
       "    </tr>\n",
       "    <tr>\n",
       "      <th>63</th>\n",
       "      <td>Bring Me Home</td>\n",
       "      <td>2019-11-27</td>\n",
       "      <td>507773.0</td>\n",
       "    </tr>\n",
       "    <tr>\n",
       "      <th>64</th>\n",
       "      <td>Start-Up</td>\n",
       "      <td>2019-12-18</td>\n",
       "      <td>581530.0</td>\n",
       "    </tr>\n",
       "    <tr>\n",
       "      <th>65</th>\n",
       "      <td>Ashfall</td>\n",
       "      <td>2019-12-19</td>\n",
       "      <td>581387.0</td>\n",
       "    </tr>\n",
       "    <tr>\n",
       "      <th>66</th>\n",
       "      <td>The Haunted House: The Sky Goblin VS Jormungandr</td>\n",
       "      <td>2019-12-19</td>\n",
       "      <td>654747.0</td>\n",
       "    </tr>\n",
       "    <tr>\n",
       "      <th>67</th>\n",
       "      <td>Forbidden Dream</td>\n",
       "      <td>2019-12-26</td>\n",
       "      <td>569267.0</td>\n",
       "    </tr>\n",
       "  </tbody>\n",
       "</table>\n",
       "<p>1163 rows × 3 columns</p>\n",
       "</div>"
      ],
      "text/plain": [
       "                                       English title   Released   TMDB_id\n",
       "0               Attack   on   the   Pin - Up   Boys  2007-07-26   75100.0\n",
       "1                               The   Bank   Attack  2007-11-14  482571.0\n",
       "3                                Beautiful   Sunday  2007-03-29   55753.0\n",
       "4             Before   the   Summer   Passes   Away  2007-01-25  467278.0\n",
       "5                              Beyond   the   Years  2007-04-12  155049.0\n",
       "..                                               ...        ...       ...\n",
       "63                                     Bring Me Home 2019-11-27  507773.0\n",
       "64                                          Start-Up 2019-12-18  581530.0\n",
       "65                                           Ashfall 2019-12-19  581387.0\n",
       "66  The Haunted House: The Sky Goblin VS Jormungandr 2019-12-19  654747.0\n",
       "67                                   Forbidden Dream 2019-12-26  569267.0\n",
       "\n",
       "[1163 rows x 3 columns]"
      ]
     },
     "execution_count": 71,
     "metadata": {},
     "output_type": "execute_result"
    }
   ],
   "source": [
    "check =  data_set.dropna(axis = 0)\n",
    "check"
   ]
  },
  {
   "cell_type": "code",
   "execution_count": 73,
   "metadata": {},
   "outputs": [
    {
     "name": "stderr",
     "output_type": "stream",
     "text": [
      "C:\\Users\\Asus\\AppData\\Local\\Temp\\ipykernel_43704\\3804415964.py:1: SettingWithCopyWarning: \n",
      "A value is trying to be set on a copy of a slice from a DataFrame.\n",
      "Try using .loc[row_indexer,col_indexer] = value instead\n",
      "\n",
      "See the caveats in the documentation: https://pandas.pydata.org/pandas-docs/stable/user_guide/indexing.html#returning-a-view-versus-a-copy\n",
      "  check['TMDB_id'] = check['TMDB_id'].astype(int)\n"
     ]
    }
   ],
   "source": [
    "check['TMDB_id'] = check['TMDB_id'].astype(int)"
   ]
  },
  {
   "cell_type": "code",
   "execution_count": 74,
   "metadata": {},
   "outputs": [
    {
     "data": {
      "text/html": [
       "<div>\n",
       "<style scoped>\n",
       "    .dataframe tbody tr th:only-of-type {\n",
       "        vertical-align: middle;\n",
       "    }\n",
       "\n",
       "    .dataframe tbody tr th {\n",
       "        vertical-align: top;\n",
       "    }\n",
       "\n",
       "    .dataframe thead th {\n",
       "        text-align: right;\n",
       "    }\n",
       "</style>\n",
       "<table border=\"1\" class=\"dataframe\">\n",
       "  <thead>\n",
       "    <tr style=\"text-align: right;\">\n",
       "      <th></th>\n",
       "      <th>English title</th>\n",
       "      <th>Released</th>\n",
       "      <th>TMDB_id</th>\n",
       "    </tr>\n",
       "  </thead>\n",
       "  <tbody>\n",
       "    <tr>\n",
       "      <th>0</th>\n",
       "      <td>Attack   on   the   Pin - Up   Boys</td>\n",
       "      <td>2007-07-26</td>\n",
       "      <td>75100</td>\n",
       "    </tr>\n",
       "    <tr>\n",
       "      <th>1</th>\n",
       "      <td>The   Bank   Attack</td>\n",
       "      <td>2007-11-14</td>\n",
       "      <td>482571</td>\n",
       "    </tr>\n",
       "    <tr>\n",
       "      <th>3</th>\n",
       "      <td>Beautiful   Sunday</td>\n",
       "      <td>2007-03-29</td>\n",
       "      <td>55753</td>\n",
       "    </tr>\n",
       "    <tr>\n",
       "      <th>4</th>\n",
       "      <td>Before   the   Summer   Passes   Away</td>\n",
       "      <td>2007-01-25</td>\n",
       "      <td>467278</td>\n",
       "    </tr>\n",
       "    <tr>\n",
       "      <th>5</th>\n",
       "      <td>Beyond   the   Years</td>\n",
       "      <td>2007-04-12</td>\n",
       "      <td>155049</td>\n",
       "    </tr>\n",
       "  </tbody>\n",
       "</table>\n",
       "</div>"
      ],
      "text/plain": [
       "                             English title   Released  TMDB_id\n",
       "0     Attack   on   the   Pin - Up   Boys  2007-07-26    75100\n",
       "1                     The   Bank   Attack  2007-11-14   482571\n",
       "3                      Beautiful   Sunday  2007-03-29    55753\n",
       "4   Before   the   Summer   Passes   Away  2007-01-25   467278\n",
       "5                    Beyond   the   Years  2007-04-12   155049"
      ]
     },
     "execution_count": 74,
     "metadata": {},
     "output_type": "execute_result"
    }
   ],
   "source": [
    "check.head()"
   ]
  },
  {
   "cell_type": "code",
   "execution_count": 76,
   "metadata": {},
   "outputs": [],
   "source": [
    "check.reset_index(inplace=True)"
   ]
  },
  {
   "cell_type": "code",
   "execution_count": 77,
   "metadata": {},
   "outputs": [],
   "source": [
    "check.to_csv('raw_koren_07_20.csv')"
   ]
  }
 ],
 "metadata": {
  "kernelspec": {
   "display_name": "Python 3",
   "language": "python",
   "name": "python3"
  },
  "language_info": {
   "codemirror_mode": {
    "name": "ipython",
    "version": 3
   },
   "file_extension": ".py",
   "mimetype": "text/x-python",
   "name": "python",
   "nbconvert_exporter": "python",
   "pygments_lexer": "ipython3",
   "version": "3.11.4"
  }
 },
 "nbformat": 4,
 "nbformat_minor": 2
}
